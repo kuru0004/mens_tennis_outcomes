{
 "cells": [
  {
   "cell_type": "code",
   "execution_count": 1,
   "metadata": {},
   "outputs": [],
   "source": [
    "import numpy as np\n",
    "import pandas as pd\n",
    "import matplotlib.pyplot as plt \n",
    "#needed for Jupyter Notebook, if want plots to show inline\n",
    "%matplotlib inline \n",
    "pd.options.display.max_columns = None\n",
    "pd.options.display.max_rows = 100"
   ]
  },
  {
   "cell_type": "code",
   "execution_count": 2,
   "metadata": {},
   "outputs": [],
   "source": [
    "import glob\n",
    "import re\n",
    "plt.style.available\n",
    "plt.style.use('seaborn-colorblind')"
   ]
  },
  {
   "cell_type": "code",
   "execution_count": 3,
   "metadata": {},
   "outputs": [],
   "source": [
    "from collections import Counter\n",
    "from datetime import datetime, timedelta\n",
    "\n",
    "from scipy.spatial.distance import pdist, squareform\n",
    "from sklearn.preprocessing import MinMaxScaler, StandardScaler\n",
    "from sklearn.model_selection import train_test_split\n",
    "from sklearn.linear_model import LogisticRegression\n",
    "from sklearn.metrics import precision_score, recall_score"
   ]
  },
  {
   "cell_type": "code",
   "execution_count": 4,
   "metadata": {
    "collapsed": true
   },
   "outputs": [
    {
     "name": "stdout",
     "output_type": "stream",
     "text": [
      "Variable             Type        Data/Info\n",
      "------------------------------------------\n",
      "Counter              type        <class 'collections.Counter'>\n",
      "LogisticRegression   type        <class 'sklearn.linear_mo<...>stic.LogisticRegression'>\n",
      "MinMaxScaler         type        <class 'sklearn.preprocessing.data.MinMaxScaler'>\n",
      "StandardScaler       type        <class 'sklearn.preproces<...>ing.data.StandardScaler'>\n",
      "datetime             type        <class 'datetime.datetime'>\n",
      "glob                 module      <module 'glob' from '/hom<...>3/lib/python3.6/glob.py'>\n",
      "np                   module      <module 'numpy' from '/ho<...>kages/numpy/__init__.py'>\n",
      "pd                   module      <module 'pandas' from '/h<...>ages/pandas/__init__.py'>\n",
      "pdist                function    <function pdist at 0x7f0f4684d8c8>\n",
      "plt                  module      <module 'matplotlib.pyplo<...>es/matplotlib/pyplot.py'>\n",
      "precision_score      function    <function precision_score at 0x7f0f3e551ae8>\n",
      "re                   module      <module 're' from '/home/<...>da3/lib/python3.6/re.py'>\n",
      "recall_score         function    <function recall_score at 0x7f0f3e551b70>\n",
      "squareform           function    <function squareform at 0x7f0f4684dc80>\n",
      "timedelta            type        <class 'datetime.timedelta'>\n",
      "train_test_split     function    <function train_test_split at 0x7f0f3e537f28>\n"
     ]
    }
   ],
   "source": [
    "%whos"
   ]
  },
  {
   "cell_type": "code",
   "execution_count": 5,
   "metadata": {},
   "outputs": [
    {
     "data": {
      "text/plain": [
       "'0.23.0'"
      ]
     },
     "execution_count": 5,
     "metadata": {},
     "output_type": "execute_result"
    }
   ],
   "source": [
    "pd.__version__"
   ]
  },
  {
   "cell_type": "markdown",
   "metadata": {},
   "source": [
    "## Loading data"
   ]
  },
  {
   "cell_type": "code",
   "execution_count": 6,
   "metadata": {},
   "outputs": [],
   "source": [
    "def read2000sMatches(dirname):\n",
    "    allFiles = glob.glob(dirname + \"/atp_matches_2\" + \"*.csv\")\n",
    "    matches = pd.DataFrame()\n",
    "    list_ = list()\n",
    "    for filen in allFiles:\n",
    "        df = pd.read_csv(filen,\n",
    "                         index_col=None,\n",
    "                         header=0,\n",
    "                         parse_dates=[0])\n",
    "                         #date_parser=lambda t:parse(t))\n",
    "        list_.append(df)\n",
    "    matches = pd.concat(list_)\n",
    "    return matches\n",
    "\n",
    "def read1900sMatches(dirname):\n",
    "    allFiles = glob.glob(dirname + \"/atp_matches_1\" + \"*.csv\")\n",
    "    matches = pd.DataFrame()\n",
    "    list_ = list()\n",
    "    for filen in allFiles:\n",
    "        df = pd.read_csv(filen,\n",
    "                         index_col=None,\n",
    "                         header=0,\n",
    "                         parse_dates=[0])\n",
    "                         #date_parser=lambda t:parse(t))\n",
    "        list_.append(df)\n",
    "    matches = pd.concat(list_)\n",
    "    return matches"
   ]
  },
  {
   "cell_type": "code",
   "execution_count": 7,
   "metadata": {},
   "outputs": [
    {
     "data": {
      "text/plain": [
       "(167879, 49)"
      ]
     },
     "execution_count": 7,
     "metadata": {},
     "output_type": "execute_result"
    }
   ],
   "source": [
    "matches2000s=read2000sMatches('tennis/')\n",
    "matches1900s=read1900sMatches('tennis/')\n",
    "matches_SackmannAll = pd.concat([matches1900s,matches2000s])\n",
    "matches_SackmannAll.shape # (167879, 49)"
   ]
  },
  {
   "cell_type": "markdown",
   "metadata": {},
   "source": [
    "## Take only data with detailed stats"
   ]
  },
  {
   "cell_type": "code",
   "execution_count": 8,
   "metadata": {},
   "outputs": [],
   "source": [
    "df_stats = matches_SackmannAll[~pd.isnull(matches_SackmannAll['w_ace'])]\n",
    "#still has many columns that are mising data\n",
    "# df_stats.info()"
   ]
  },
  {
   "cell_type": "code",
   "execution_count": 9,
   "metadata": {},
   "outputs": [],
   "source": [
    "df_win = df_stats[['tourney_id', 'match_num','tourney_name', 'surface', 'draw_size', 'tourney_level',\n",
    "       'tourney_date',  'score', 'best_of',\n",
    "       'round', 'minutes','winner_id', 'winner_seed', 'winner_entry',\n",
    "       'winner_name', 'winner_hand', 'winner_ht', 'winner_ioc', 'winner_age',\n",
    "       'winner_rank', 'winner_rank_points','w_ace', 'w_df', 'w_svpt', 'w_1stIn', 'w_1stWon', 'w_2ndWon', 'w_SvGms',\n",
    "       'w_bpSaved', 'w_bpFaced']]\n",
    "df_loss = df_stats[['tourney_id','match_num','tourney_name', 'surface', 'draw_size', 'tourney_level',\n",
    "       'tourney_date',  'score', 'best_of',\n",
    "       'round', 'minutes','loser_id', 'loser_seed',\n",
    "       'loser_entry', 'loser_name', 'loser_hand', 'loser_ht', 'loser_ioc',\n",
    "       'loser_age', 'loser_rank', 'loser_rank_points','l_ace', 'l_df',\n",
    "       'l_svpt', 'l_1stIn', 'l_1stWon', 'l_2ndWon', 'l_SvGms', 'l_bpSaved',\n",
    "       'l_bpFaced']]"
   ]
  },
  {
   "cell_type": "markdown",
   "metadata": {},
   "source": [
    "### Make 'win' and 'loss' columns compatible"
   ]
  },
  {
   "cell_type": "markdown",
   "metadata": {},
   "source": [
    "#### Situation by poor concatenation (appending to the right NOT below), without changing column names"
   ]
  },
  {
   "cell_type": "code",
   "execution_count": 10,
   "metadata": {},
   "outputs": [],
   "source": [
    "df_win_loss = pd.concat([df_win,df_loss],axis=1)\n",
    "# each row has basic info repeated\n",
    "# each row has two 'target'"
   ]
  },
  {
   "cell_type": "markdown",
   "metadata": {},
   "source": [
    "#### Making compatible"
   ]
  },
  {
   "cell_type": "code",
   "execution_count": 11,
   "metadata": {},
   "outputs": [
    {
     "name": "stderr",
     "output_type": "stream",
     "text": [
      "/home/ubuntu/anaconda3/lib/python3.6/site-packages/ipykernel_launcher.py:6: SettingWithCopyWarning: \n",
      "A value is trying to be set on a copy of a slice from a DataFrame.\n",
      "Try using .loc[row_indexer,col_indexer] = value instead\n",
      "\n",
      "See the caveats in the documentation: http://pandas.pydata.org/pandas-docs/stable/indexing.html#indexing-view-versus-copy\n",
      "  \n",
      "/home/ubuntu/anaconda3/lib/python3.6/site-packages/ipykernel_launcher.py:7: SettingWithCopyWarning: \n",
      "A value is trying to be set on a copy of a slice from a DataFrame.\n",
      "Try using .loc[row_indexer,col_indexer] = value instead\n",
      "\n",
      "See the caveats in the documentation: http://pandas.pydata.org/pandas-docs/stable/indexing.html#indexing-view-versus-copy\n",
      "  import sys\n"
     ]
    }
   ],
   "source": [
    "df_win.columns = [s.replace(\"winner_\", \"\") for s in df_win.columns]\n",
    "df_win.columns = [s.replace(\"w_\", \"\") for s in df_win.columns]\n",
    "df_loss.columns = [s.replace(\"loser_\", \"\") for s in df_win.columns]\n",
    "df_loss.columns = [s.replace(\"l_\", \"\") for s in df_win.columns]\n",
    "\n",
    "df_win['target']=1\n",
    "df_loss['target']=0\n"
   ]
  },
  {
   "cell_type": "code",
   "execution_count": 12,
   "metadata": {},
   "outputs": [],
   "source": [
    "df_win_loss = pd.concat([df_win,df_loss])\n"
   ]
  },
  {
   "cell_type": "code",
   "execution_count": 13,
   "metadata": {
    "collapsed": true
   },
   "outputs": [
    {
     "name": "stdout",
     "output_type": "stream",
     "text": [
      "Variable              Type         Data/Info\n",
      "--------------------------------------------\n",
      "Counter               type         <class 'collections.Counter'>\n",
      "LogisticRegression    type         <class 'sklearn.linear_mo<...>stic.LogisticRegression'>\n",
      "MinMaxScaler          type         <class 'sklearn.preprocessing.data.MinMaxScaler'>\n",
      "StandardScaler        type         <class 'sklearn.preproces<...>ing.data.StandardScaler'>\n",
      "datetime              type         <class 'datetime.datetime'>\n",
      "df_loss               DataFrame         tourney_id  match_nu<...>[81281 rows x 31 columns]\n",
      "df_stats              DataFrame         tourney_id  tourney_<...>[81281 rows x 49 columns]\n",
      "df_win                DataFrame         tourney_id  match_nu<...>[81281 rows x 31 columns]\n",
      "df_win_loss           DataFrame         tourney_id  match_nu<...>162562 rows x 31 columns]\n",
      "glob                  module       <module 'glob' from '/hom<...>3/lib/python3.6/glob.py'>\n",
      "matches1900s          DataFrame         tourney_id          <...>110457 rows x 49 columns]\n",
      "matches2000s          DataFrame         tourney_id          <...>[57422 rows x 49 columns]\n",
      "matches_SackmannAll   DataFrame         tourney_id          <...>167879 rows x 49 columns]\n",
      "np                    module       <module 'numpy' from '/ho<...>kages/numpy/__init__.py'>\n",
      "pd                    module       <module 'pandas' from '/h<...>ages/pandas/__init__.py'>\n",
      "pdist                 function     <function pdist at 0x7f0f4684d8c8>\n",
      "plt                   module       <module 'matplotlib.pyplo<...>es/matplotlib/pyplot.py'>\n",
      "precision_score       function     <function precision_score at 0x7f0f3e551ae8>\n",
      "re                    module       <module 're' from '/home/<...>da3/lib/python3.6/re.py'>\n",
      "read1900sMatches      function     <function read1900sMatches at 0x7f0f3c38db70>\n",
      "read2000sMatches      function     <function read2000sMatches at 0x7f0f3c38dbf8>\n",
      "recall_score          function     <function recall_score at 0x7f0f3e551b70>\n",
      "squareform            function     <function squareform at 0x7f0f4684dc80>\n",
      "timedelta             type         <class 'datetime.timedelta'>\n",
      "train_test_split      function     <function train_test_split at 0x7f0f3e537f28>\n"
     ]
    }
   ],
   "source": [
    "%whos"
   ]
  },
  {
   "cell_type": "code",
   "execution_count": 14,
   "metadata": {},
   "outputs": [],
   "source": [
    "del(matches1900s,matches2000s)"
   ]
  },
  {
   "cell_type": "code",
   "execution_count": 15,
   "metadata": {},
   "outputs": [],
   "source": [
    "del(df_win,df_loss)"
   ]
  },
  {
   "cell_type": "markdown",
   "metadata": {},
   "source": [
    "#### Fill missing values"
   ]
  },
  {
   "cell_type": "code",
   "execution_count": 16,
   "metadata": {},
   "outputs": [],
   "source": [
    "## fill method of entry for most players with 'standard'; mostly missing values\n",
    "df_win_loss['entry'] = df_win_loss['entry'].fillna('standard')\n",
    "\n",
    "## better way might be max(33,rank) ## 33 is the minumum non-seeded value\n",
    "##high positive value because negative associates with better rank\n",
    "df_win_loss['seed'] = df_win_loss['seed'].fillna(9999)\n",
    "df_win_loss['seed'] = df_win_loss['seed'].astype(int)\n",
    "\n",
    "#rank, and rank_points have ~4000 missign out of 162000\n",
    "df_win_loss[['rank','rank_points']] = df_win_loss.groupby('name')[['rank','rank_points']]\\\n",
    "                                        .transform(lambda x: x.fillna(x.mean()))\n",
    "#rank, and rank_points have some more missing values: set to maximum ranking and minimum rank points\n",
    "df_win_loss['rank'] = df_win_loss['rank']\\\n",
    "                                        .transform(lambda x: x.fillna(x.max()))\n",
    "df_win_loss['rank_points'] = df_win_loss['rank_points']\\\n",
    "                                        .transform(lambda x: x.fillna(x.min()))\n"
   ]
  },
  {
   "cell_type": "markdown",
   "metadata": {},
   "source": [
    "#### more filling of missing values"
   ]
  },
  {
   "cell_type": "code",
   "execution_count": 17,
   "metadata": {},
   "outputs": [],
   "source": [
    "### for this 1st epicycle: don't want score,2 scores missing,, , "
   ]
  },
  {
   "cell_type": "code",
   "execution_count": 18,
   "metadata": {},
   "outputs": [],
   "source": [
    "## set 'hand' to U ('unknown') ~35 missing 'hand'\n",
    "df_win_loss['hand'] = df_win_loss['hand'].fillna('U')"
   ]
  },
  {
   "cell_type": "code",
   "execution_count": 19,
   "metadata": {},
   "outputs": [
    {
     "data": {
      "text/plain": [
       "R    138155\n",
       "L     23661\n",
       "U       746\n",
       "Name: hand, dtype: int64"
      ]
     },
     "execution_count": 19,
     "metadata": {},
     "output_type": "execute_result"
    }
   ],
   "source": [
    "df_win_loss['hand'].value_counts() #R    138155 L     23661 U       746"
   ]
  },
  {
   "cell_type": "code",
   "execution_count": 20,
   "metadata": {},
   "outputs": [],
   "source": [
    "# set missing height, age  to average for all people ~7000 missing heights, ~100 missing age\n",
    "df_win_loss[['age','ht']] = df_win_loss[['age','ht']]\\\n",
    "                                        .transform(lambda x: x.fillna(x.mean()))"
   ]
  },
  {
   "cell_type": "code",
   "execution_count": 21,
   "metadata": {},
   "outputs": [],
   "source": [
    "## set missing minutes to average age of all ~5000 missing minutes\n",
    "df_win_loss['minutes'] = df_win_loss['minutes']\\\n",
    "                                        .transform(lambda x: x.fillna(x.mean()))"
   ]
  },
  {
   "cell_type": "code",
   "execution_count": 22,
   "metadata": {},
   "outputs": [
    {
     "data": {
      "text/plain": [
       "0"
      ]
     },
     "execution_count": 22,
     "metadata": {},
     "output_type": "execute_result"
    }
   ],
   "source": [
    "(df_win_loss['age']).value_counts() #87 (most) occurrences of 23.7919\n",
    "len(df_win_loss.loc[pd.isnull(df_win_loss['age']),'age']) # 0 good\n",
    "(df_win_loss['ht']).value_counts() #25899 (most) occurrences of 185 (cm)\n",
    "len(df_win_loss.loc[pd.isnull(df_win_loss['ht']),'ht']) # 0 good"
   ]
  },
  {
   "cell_type": "markdown",
   "metadata": {},
   "source": [
    "## Dummying categorical variables"
   ]
  },
  {
   "cell_type": "code",
   "execution_count": 23,
   "metadata": {},
   "outputs": [],
   "source": [
    "df_win_loss = pd.concat([df_win_loss,\\\n",
    "                         pd.get_dummies(df_win_loss['surface'])],axis=1)"
   ]
  },
  {
   "cell_type": "markdown",
   "metadata": {},
   "source": [
    "* Hard      80028 \n",
    "* Clay      54282 \n",
    "* Grass     16366 \n",
    "* Carpet    11736 \n",
    "* None        150 \n",
    "\n",
    "Name: surface, dtype: int64"
   ]
  },
  {
   "cell_type": "code",
   "execution_count": 24,
   "metadata": {},
   "outputs": [],
   "source": [
    "df_win_loss.drop('surface', axis=1,inplace=True)     "
   ]
  },
  {
   "cell_type": "code",
   "execution_count": 25,
   "metadata": {},
   "outputs": [],
   "source": [
    "df_win_loss = pd.concat([df_win_loss,\\\n",
    "                         pd.get_dummies(df_win_loss['hand'])],axis=1)"
   ]
  },
  {
   "cell_type": "code",
   "execution_count": 26,
   "metadata": {},
   "outputs": [],
   "source": [
    "df_win_loss.drop('hand', axis=1,inplace=True)"
   ]
  },
  {
   "cell_type": "code",
   "execution_count": 27,
   "metadata": {},
   "outputs": [],
   "source": [
    "df_win_loss = pd.concat([df_win_loss,\\\n",
    "                         pd.get_dummies(df_win_loss['tourney_level'])],axis=1)"
   ]
  },
  {
   "cell_type": "code",
   "execution_count": 28,
   "metadata": {},
   "outputs": [],
   "source": [
    "df_win_loss.drop('tourney_level', axis=1,inplace=True)"
   ]
  },
  {
   "cell_type": "code",
   "execution_count": 29,
   "metadata": {
    "collapsed": true
   },
   "outputs": [
    {
     "data": {
      "text/plain": [
       "Index(['tourney_id', 'match_num', 'tourney_name', 'drasize', 'tourney_date',\n",
       "       'score', 'best_of', 'round', 'minutes', 'id', 'seed', 'entry', 'name',\n",
       "       'ht', 'ioc', 'age', 'rank', 'rank_points', 'ace', 'df', 'svpt', '1stIn',\n",
       "       '1stWon', '2ndWon', 'SvGms', 'bpSaved', 'bpFaced', 'target', 'Carpet',\n",
       "       'Clay', 'Grass', 'Hard', 'None', 'L', 'R', 'U', 'A', 'C', 'D', 'F', 'G',\n",
       "       'M'],\n",
       "      dtype='object')"
      ]
     },
     "execution_count": 29,
     "metadata": {},
     "output_type": "execute_result"
    }
   ],
   "source": [
    "df_win_loss.columns"
   ]
  },
  {
   "cell_type": "code",
   "execution_count": 30,
   "metadata": {},
   "outputs": [],
   "source": [
    "#Other than score all values are filled, at 162562\n",
    "#df_win_loss.info()"
   ]
  },
  {
   "cell_type": "code",
   "execution_count": 31,
   "metadata": {},
   "outputs": [],
   "source": [
    "df_pred_cols=df_win_loss[[ \n",
    "        'minutes', \n",
    "       'ht', 'age', 'rank_points', 'ace', 'df',\n",
    "       'svpt', '1stIn', '1stWon', '2ndWon', 'SvGms', 'bpSaved', 'bpFaced',\n",
    "       'Carpet', 'Clay', 'Grass', 'Hard', 'None', 'L', 'R', 'U', 'A',\n",
    "       'C', 'D', 'F', 'G', 'M']]"
   ]
  },
  {
   "cell_type": "markdown",
   "metadata": {},
   "source": []
  },
  {
   "cell_type": "markdown",
   "metadata": {},
   "source": [
    "## Selecting the time subset of data"
   ]
  },
  {
   "cell_type": "markdown",
   "metadata": {},
   "source": [
    "### Exploration"
   ]
  },
  {
   "cell_type": "code",
   "execution_count": 32,
   "metadata": {
    "scrolled": true
   },
   "outputs": [
    {
     "data": {
      "text/plain": [
       "Index(['tourney_id', 'match_num', 'tourney_name', 'drasize', 'tourney_date',\n",
       "       'score', 'best_of', 'round', 'minutes', 'id', 'seed', 'entry', 'name',\n",
       "       'ht', 'ioc', 'age', 'rank', 'rank_points', 'ace', 'df', 'svpt', '1stIn',\n",
       "       '1stWon', '2ndWon', 'SvGms', 'bpSaved', 'bpFaced', 'target', 'Carpet',\n",
       "       'Clay', 'Grass', 'Hard', 'None', 'L', 'R', 'U', 'A', 'C', 'D', 'F', 'G',\n",
       "       'M'],\n",
       "      dtype='object')"
      ]
     },
     "execution_count": 32,
     "metadata": {},
     "output_type": "execute_result"
    }
   ],
   "source": [
    "df_win_loss.columns\n"
   ]
  },
  {
   "cell_type": "code",
   "execution_count": 33,
   "metadata": {},
   "outputs": [
    {
     "data": {
      "text/plain": [
       "19901231"
      ]
     },
     "execution_count": 33,
     "metadata": {},
     "output_type": "execute_result"
    }
   ],
   "source": [
    "tourney_date=df_win_loss['tourney_date'].values\n",
    "type(np.max(tourney_date)) #20180521, np.int64\n",
    "np.min(tourney_date) #19901231"
   ]
  },
  {
   "cell_type": "code",
   "execution_count": 34,
   "metadata": {},
   "outputs": [
    {
     "data": {
      "text/plain": [
       "1078"
      ]
     },
     "execution_count": 34,
     "metadata": {},
     "output_type": "execute_result"
    }
   ],
   "source": [
    "# shows that data not easily converted to date\n",
    "len(pd.to_datetime(df_win_loss['tourney_date']).unique()) #1078"
   ]
  },
  {
   "cell_type": "markdown",
   "metadata": {},
   "source": [
    "### Conversion of 'tourney_date' to datetime variable"
   ]
  },
  {
   "cell_type": "code",
   "execution_count": 35,
   "metadata": {},
   "outputs": [
    {
     "data": {
      "text/plain": [
       "array([1992, 1991, 1993, 1996, 1999, 1994, 1995, 1997, 1998, 1990, 2004,\n",
       "       2008, 2007, 2015, 2012, 2003, 2002, 2000, 2001, 2013, 2009, 2017,\n",
       "       2014, 2010, 2006, 2005, 2011, 2016, 2018])"
      ]
     },
     "execution_count": 35,
     "metadata": {},
     "output_type": "execute_result"
    }
   ],
   "source": [
    "## this conversion works, have to reassign becuase operation is not inplace\n",
    "df_win_loss['tourney_date']= pd.to_datetime(df_win_loss['tourney_date'].apply(str))\n",
    "type(df_win_loss['tourney_date']) #seriers, post-pend '.values':np.ndarray of datetimes\n",
    "df_win_loss['tourney_date'].apply(lambda x: x.year).unique()\n",
    "# 1992, 1991, 1993, 1996, 1999, 1994, 1995, 1997, 1998, 1990, 2004,\n",
    "#        2008, 2007, 2015, 2012, 2003, 2002, 2000, 2001, 2013, 2009, 2017,\n",
    "#        2014, 2010, 2006, 2005, 2011, 2016, 2018\n",
    "\n",
    "# df_win_loss.groupby(df_win_loss['tourney_date'].apply(lambda x: x.year))['tourney_date']"
   ]
  },
  {
   "cell_type": "code",
   "execution_count": 36,
   "metadata": {},
   "outputs": [],
   "source": [
    "df_win_loss.index = df_win_loss['tourney_date']\n",
    "df_win_loss.set_index(np.arange(1,len(df_win_loss)+1),inplace=True)"
   ]
  },
  {
   "cell_type": "code",
   "execution_count": 37,
   "metadata": {},
   "outputs": [],
   "source": [
    "# datetime.now() #5 hours ahead of Central Standard"
   ]
  },
  {
   "cell_type": "code",
   "execution_count": 38,
   "metadata": {},
   "outputs": [],
   "source": [
    "one_year = timedelta(days=365)\n",
    "# print(s[date_index - one_day]"
   ]
  },
  {
   "cell_type": "markdown",
   "metadata": {},
   "source": [
    "### Get a duration of a year and limit dataframe to year before stipulated date"
   ]
  },
  {
   "cell_type": "code",
   "execution_count": 39,
   "metadata": {},
   "outputs": [
    {
     "data": {
      "text/plain": [
       "(5462, 42)"
      ]
     },
     "execution_count": 39,
     "metadata": {},
     "output_type": "execute_result"
    }
   ],
   "source": [
    "date = pd.datetime(2010,11,23)\n",
    "one_year=timedelta(days=370) \n",
    "df_one_year = df_win_loss[(df_win_loss.tourney_date<date) & (df_win_loss.tourney_date> date-one_year)]\n",
    "df_one_year.shape #5432,42; 'days=500', shape is 7544,42"
   ]
  },
  {
   "cell_type": "code",
   "execution_count": 40,
   "metadata": {},
   "outputs": [
    {
     "data": {
      "text/plain": [
       "array([2009, 2010])"
      ]
     },
     "execution_count": 40,
     "metadata": {},
     "output_type": "execute_result"
    }
   ],
   "source": [
    "# Checking which years the data of resultant dataframe is from\n",
    "df_one_year['tourney_date'].apply(lambda x: x.year).unique()"
   ]
  },
  {
   "cell_type": "code",
   "execution_count": null,
   "metadata": {},
   "outputs": [],
   "source": []
  },
  {
   "cell_type": "markdown",
   "metadata": {},
   "source": [
    "### Conclsion: get a one-year basis dataframe "
   ]
  },
  {
   "cell_type": "markdown",
   "metadata": {},
   "source": [
    "## Get player data for the last  year"
   ]
  },
  {
   "cell_type": "markdown",
   "metadata": {},
   "source": [
    "#### One method, Masking: Checking Roger Federer"
   ]
  },
  {
   "cell_type": "code",
   "execution_count": 41,
   "metadata": {},
   "outputs": [
    {
     "data": {
      "text/plain": [
       "313"
      ]
     },
     "execution_count": 41,
     "metadata": {},
     "output_type": "execute_result"
    }
   ],
   "source": [
    "#Works but gives same value, replated for all columsn of data frame\n",
    "df_win_loss[df_win_loss['name']=='Roger Federer'].count()\n",
    "#Works and give a single value as I want\n",
    "df_win_loss.loc[df_win_loss['name']=='Roger Federer', 'name'].count() #1339\n",
    "#Seems there are other Roger's, checked a few lines down:\n",
    "df_win_loss.loc[df_win_loss['name'].str.contains('Roger'), 'name'].count() #1652\n",
    "#But only one Federer, number matches that of 'Roger Federer':\n",
    "df_win_loss.loc[df_win_loss['name'].str.contains('Federer'), 'name'].count() #1339\n",
    "#Gets expect result of 313 Roger's not named Federer (1652-1339)\n",
    "df_win_loss.loc[(df_win_loss['name'].str.contains('Roger'))&(df_win_loss['name']!='Roger Federer'), 'name'].count() "
   ]
  },
  {
   "cell_type": "code",
   "execution_count": 42,
   "metadata": {},
   "outputs": [],
   "source": [
    "# Who are those non-Roger Federer people\n",
    "#df_win_loss.loc[(df_win_loss['name'].str.contains('Roger'))&(df_win_loss['name']!='Roger Federer'), 'name'].tail(100)"
   ]
  },
  {
   "cell_type": "markdown",
   "metadata": {},
   "source": [
    "#### Check that player corresponds to unique ID 'id'"
   ]
  },
  {
   "cell_type": "code",
   "execution_count": 43,
   "metadata": {},
   "outputs": [
    {
     "data": {
      "text/plain": [
       "array([103819])"
      ]
     },
     "execution_count": 43,
     "metadata": {},
     "output_type": "execute_result"
    }
   ],
   "source": [
    "df_win_loss.loc[df_win_loss['name']=='Roger Federer', 'id'].unique()  #just one id, good, 103819"
   ]
  },
  {
   "cell_type": "markdown",
   "metadata": {},
   "source": [
    "#### Other method, Grouping: Checking Novak and Nadal"
   ]
  },
  {
   "cell_type": "code",
   "execution_count": 97,
   "metadata": {},
   "outputs": [
    {
     "data": {
      "text/plain": [
       "16950.0"
      ]
     },
     "execution_count": 97,
     "metadata": {},
     "output_type": "execute_result"
    }
   ],
   "source": [
    "np.max(df_one_year['rank_points']) #range 0 to 12390\n",
    "np.max(df_win_loss['rank_points']) #"
   ]
  },
  {
   "cell_type": "code",
   "execution_count": 86,
   "metadata": {},
   "outputs": [
    {
     "data": {
      "text/html": [
       "<div>\n",
       "<style scoped>\n",
       "    .dataframe tbody tr th:only-of-type {\n",
       "        vertical-align: middle;\n",
       "    }\n",
       "\n",
       "    .dataframe tbody tr th {\n",
       "        vertical-align: top;\n",
       "    }\n",
       "\n",
       "    .dataframe thead th {\n",
       "        text-align: right;\n",
       "    }\n",
       "</style>\n",
       "<table border=\"1\" class=\"dataframe\">\n",
       "  <thead>\n",
       "    <tr style=\"text-align: right;\">\n",
       "      <th></th>\n",
       "      <th>tourney_id</th>\n",
       "      <th>match_num</th>\n",
       "      <th>tourney_name</th>\n",
       "      <th>drasize</th>\n",
       "      <th>tourney_date</th>\n",
       "      <th>score</th>\n",
       "      <th>best_of</th>\n",
       "      <th>round</th>\n",
       "      <th>minutes</th>\n",
       "      <th>id</th>\n",
       "      <th>seed</th>\n",
       "      <th>entry</th>\n",
       "      <th>name</th>\n",
       "      <th>ht</th>\n",
       "      <th>ioc</th>\n",
       "      <th>age</th>\n",
       "      <th>rank</th>\n",
       "      <th>rank_points</th>\n",
       "      <th>ace</th>\n",
       "      <th>df</th>\n",
       "      <th>svpt</th>\n",
       "      <th>1stIn</th>\n",
       "      <th>1stWon</th>\n",
       "      <th>2ndWon</th>\n",
       "      <th>SvGms</th>\n",
       "      <th>bpSaved</th>\n",
       "      <th>bpFaced</th>\n",
       "      <th>target</th>\n",
       "      <th>Carpet</th>\n",
       "      <th>Clay</th>\n",
       "      <th>Grass</th>\n",
       "      <th>Hard</th>\n",
       "      <th>None</th>\n",
       "      <th>L</th>\n",
       "      <th>R</th>\n",
       "      <th>U</th>\n",
       "      <th>A</th>\n",
       "      <th>C</th>\n",
       "      <th>D</th>\n",
       "      <th>F</th>\n",
       "      <th>G</th>\n",
       "      <th>M</th>\n",
       "    </tr>\n",
       "  </thead>\n",
       "  <tbody>\n",
       "    <tr>\n",
       "      <th>60228</th>\n",
       "      <td>2010-540</td>\n",
       "      <td>96</td>\n",
       "      <td>Wimbledon</td>\n",
       "      <td>128</td>\n",
       "      <td>2010-06-21</td>\n",
       "      <td>5-7 6-2 3-6 6-0 6-3</td>\n",
       "      <td>5</td>\n",
       "      <td>R64</td>\n",
       "      <td>142.0</td>\n",
       "      <td>104745</td>\n",
       "      <td>2</td>\n",
       "      <td>standard</td>\n",
       "      <td>Rafael Nadal</td>\n",
       "      <td>185.0</td>\n",
       "      <td>ESP</td>\n",
       "      <td>24.049281</td>\n",
       "      <td>1.0</td>\n",
       "      <td>8745.0</td>\n",
       "      <td>5.0</td>\n",
       "      <td>2.0</td>\n",
       "      <td>107.0</td>\n",
       "      <td>73.0</td>\n",
       "      <td>62.0</td>\n",
       "      <td>23.0</td>\n",
       "      <td>22.0</td>\n",
       "      <td>0.0</td>\n",
       "      <td>2.0</td>\n",
       "      <td>1</td>\n",
       "      <td>0</td>\n",
       "      <td>0</td>\n",
       "      <td>1</td>\n",
       "      <td>0</td>\n",
       "      <td>0</td>\n",
       "      <td>1</td>\n",
       "      <td>0</td>\n",
       "      <td>0</td>\n",
       "      <td>0</td>\n",
       "      <td>0</td>\n",
       "      <td>0</td>\n",
       "      <td>0</td>\n",
       "      <td>1</td>\n",
       "      <td>0</td>\n",
       "    </tr>\n",
       "    <tr>\n",
       "      <th>60244</th>\n",
       "      <td>2010-540</td>\n",
       "      <td>112</td>\n",
       "      <td>Wimbledon</td>\n",
       "      <td>128</td>\n",
       "      <td>2010-06-21</td>\n",
       "      <td>6-4 4-6 6-7(5) 6-2 6-3</td>\n",
       "      <td>5</td>\n",
       "      <td>R32</td>\n",
       "      <td>225.0</td>\n",
       "      <td>104745</td>\n",
       "      <td>2</td>\n",
       "      <td>standard</td>\n",
       "      <td>Rafael Nadal</td>\n",
       "      <td>185.0</td>\n",
       "      <td>ESP</td>\n",
       "      <td>24.049281</td>\n",
       "      <td>1.0</td>\n",
       "      <td>8745.0</td>\n",
       "      <td>12.0</td>\n",
       "      <td>1.0</td>\n",
       "      <td>142.0</td>\n",
       "      <td>96.0</td>\n",
       "      <td>77.0</td>\n",
       "      <td>28.0</td>\n",
       "      <td>25.0</td>\n",
       "      <td>1.0</td>\n",
       "      <td>2.0</td>\n",
       "      <td>1</td>\n",
       "      <td>0</td>\n",
       "      <td>0</td>\n",
       "      <td>1</td>\n",
       "      <td>0</td>\n",
       "      <td>0</td>\n",
       "      <td>1</td>\n",
       "      <td>0</td>\n",
       "      <td>0</td>\n",
       "      <td>0</td>\n",
       "      <td>0</td>\n",
       "      <td>0</td>\n",
       "      <td>0</td>\n",
       "      <td>1</td>\n",
       "      <td>0</td>\n",
       "    </tr>\n",
       "    <tr>\n",
       "      <th>60252</th>\n",
       "      <td>2010-540</td>\n",
       "      <td>120</td>\n",
       "      <td>Wimbledon</td>\n",
       "      <td>128</td>\n",
       "      <td>2010-06-21</td>\n",
       "      <td>6-4 6-2 6-2</td>\n",
       "      <td>5</td>\n",
       "      <td>R16</td>\n",
       "      <td>121.0</td>\n",
       "      <td>104745</td>\n",
       "      <td>2</td>\n",
       "      <td>standard</td>\n",
       "      <td>Rafael Nadal</td>\n",
       "      <td>185.0</td>\n",
       "      <td>ESP</td>\n",
       "      <td>24.049281</td>\n",
       "      <td>1.0</td>\n",
       "      <td>8745.0</td>\n",
       "      <td>8.0</td>\n",
       "      <td>1.0</td>\n",
       "      <td>68.0</td>\n",
       "      <td>44.0</td>\n",
       "      <td>38.0</td>\n",
       "      <td>16.0</td>\n",
       "      <td>13.0</td>\n",
       "      <td>2.0</td>\n",
       "      <td>2.0</td>\n",
       "      <td>1</td>\n",
       "      <td>0</td>\n",
       "      <td>0</td>\n",
       "      <td>1</td>\n",
       "      <td>0</td>\n",
       "      <td>0</td>\n",
       "      <td>1</td>\n",
       "      <td>0</td>\n",
       "      <td>0</td>\n",
       "      <td>0</td>\n",
       "      <td>0</td>\n",
       "      <td>0</td>\n",
       "      <td>0</td>\n",
       "      <td>1</td>\n",
       "      <td>0</td>\n",
       "    </tr>\n",
       "    <tr>\n",
       "      <th>60256</th>\n",
       "      <td>2010-540</td>\n",
       "      <td>124</td>\n",
       "      <td>Wimbledon</td>\n",
       "      <td>128</td>\n",
       "      <td>2010-06-21</td>\n",
       "      <td>3-6 6-3 7-6(4) 6-1</td>\n",
       "      <td>5</td>\n",
       "      <td>QF</td>\n",
       "      <td>163.0</td>\n",
       "      <td>104745</td>\n",
       "      <td>2</td>\n",
       "      <td>standard</td>\n",
       "      <td>Rafael Nadal</td>\n",
       "      <td>185.0</td>\n",
       "      <td>ESP</td>\n",
       "      <td>24.049281</td>\n",
       "      <td>1.0</td>\n",
       "      <td>8745.0</td>\n",
       "      <td>12.0</td>\n",
       "      <td>3.0</td>\n",
       "      <td>126.0</td>\n",
       "      <td>85.0</td>\n",
       "      <td>59.0</td>\n",
       "      <td>25.0</td>\n",
       "      <td>19.0</td>\n",
       "      <td>4.0</td>\n",
       "      <td>7.0</td>\n",
       "      <td>1</td>\n",
       "      <td>0</td>\n",
       "      <td>0</td>\n",
       "      <td>1</td>\n",
       "      <td>0</td>\n",
       "      <td>0</td>\n",
       "      <td>1</td>\n",
       "      <td>0</td>\n",
       "      <td>0</td>\n",
       "      <td>0</td>\n",
       "      <td>0</td>\n",
       "      <td>0</td>\n",
       "      <td>0</td>\n",
       "      <td>1</td>\n",
       "      <td>0</td>\n",
       "    </tr>\n",
       "  </tbody>\n",
       "</table>\n",
       "</div>"
      ],
      "text/plain": [
       "      tourney_id  match_num tourney_name  drasize tourney_date  \\\n",
       "60228   2010-540         96    Wimbledon      128   2010-06-21   \n",
       "60244   2010-540        112    Wimbledon      128   2010-06-21   \n",
       "60252   2010-540        120    Wimbledon      128   2010-06-21   \n",
       "60256   2010-540        124    Wimbledon      128   2010-06-21   \n",
       "\n",
       "                        score  best_of round  minutes      id  seed     entry  \\\n",
       "60228     5-7 6-2 3-6 6-0 6-3        5   R64    142.0  104745     2  standard   \n",
       "60244  6-4 4-6 6-7(5) 6-2 6-3        5   R32    225.0  104745     2  standard   \n",
       "60252             6-4 6-2 6-2        5   R16    121.0  104745     2  standard   \n",
       "60256      3-6 6-3 7-6(4) 6-1        5    QF    163.0  104745     2  standard   \n",
       "\n",
       "               name     ht  ioc        age  rank  rank_points   ace   df  \\\n",
       "60228  Rafael Nadal  185.0  ESP  24.049281   1.0       8745.0   5.0  2.0   \n",
       "60244  Rafael Nadal  185.0  ESP  24.049281   1.0       8745.0  12.0  1.0   \n",
       "60252  Rafael Nadal  185.0  ESP  24.049281   1.0       8745.0   8.0  1.0   \n",
       "60256  Rafael Nadal  185.0  ESP  24.049281   1.0       8745.0  12.0  3.0   \n",
       "\n",
       "        svpt  1stIn  1stWon  2ndWon  SvGms  bpSaved  bpFaced  target  Carpet  \\\n",
       "60228  107.0   73.0    62.0    23.0   22.0      0.0      2.0       1       0   \n",
       "60244  142.0   96.0    77.0    28.0   25.0      1.0      2.0       1       0   \n",
       "60252   68.0   44.0    38.0    16.0   13.0      2.0      2.0       1       0   \n",
       "60256  126.0   85.0    59.0    25.0   19.0      4.0      7.0       1       0   \n",
       "\n",
       "       Clay  Grass  Hard  None  L  R  U  A  C  D  F  G  M  \n",
       "60228     0      1     0     0  1  0  0  0  0  0  0  1  0  \n",
       "60244     0      1     0     0  1  0  0  0  0  0  0  1  0  \n",
       "60252     0      1     0     0  1  0  0  0  0  0  0  1  0  \n",
       "60256     0      1     0     0  1  0  0  0  0  0  0  1  0  "
      ]
     },
     "execution_count": 86,
     "metadata": {},
     "output_type": "execute_result"
    }
   ],
   "source": [
    "player1='Rafael Nadal'\n",
    "player2='Novak Djokovic'\n",
    "df_one_year.groupby('name').get_group(player1)[6:10]\n",
    "#df_adf=(df_one_year.groupby('name').get_group(player2))"
   ]
  },
  {
   "cell_type": "markdown",
   "metadata": {},
   "source": [
    "## Iterating through groups to aggregate variables (abandoned)"
   ]
  },
  {
   "cell_type": "markdown",
   "metadata": {},
   "source": [
    "## Some model, any model"
   ]
  },
  {
   "cell_type": "code",
   "execution_count": 45,
   "metadata": {},
   "outputs": [
    {
     "data": {
      "text/html": [
       "<div>\n",
       "<style scoped>\n",
       "    .dataframe tbody tr th:only-of-type {\n",
       "        vertical-align: middle;\n",
       "    }\n",
       "\n",
       "    .dataframe tbody tr th {\n",
       "        vertical-align: top;\n",
       "    }\n",
       "\n",
       "    .dataframe thead th {\n",
       "        text-align: right;\n",
       "    }\n",
       "</style>\n",
       "<table border=\"1\" class=\"dataframe\">\n",
       "  <thead>\n",
       "    <tr style=\"text-align: right;\">\n",
       "      <th></th>\n",
       "      <th>tourney_id</th>\n",
       "      <th>match_num</th>\n",
       "      <th>tourney_name</th>\n",
       "      <th>drasize</th>\n",
       "      <th>tourney_date</th>\n",
       "      <th>score</th>\n",
       "      <th>best_of</th>\n",
       "      <th>round</th>\n",
       "      <th>minutes</th>\n",
       "      <th>id</th>\n",
       "      <th>seed</th>\n",
       "      <th>entry</th>\n",
       "      <th>name</th>\n",
       "      <th>ht</th>\n",
       "      <th>ioc</th>\n",
       "      <th>age</th>\n",
       "      <th>rank</th>\n",
       "      <th>rank_points</th>\n",
       "      <th>ace</th>\n",
       "      <th>df</th>\n",
       "      <th>svpt</th>\n",
       "      <th>1stIn</th>\n",
       "      <th>1stWon</th>\n",
       "      <th>2ndWon</th>\n",
       "      <th>SvGms</th>\n",
       "      <th>bpSaved</th>\n",
       "      <th>bpFaced</th>\n",
       "      <th>target</th>\n",
       "      <th>Carpet</th>\n",
       "      <th>Clay</th>\n",
       "      <th>Grass</th>\n",
       "      <th>Hard</th>\n",
       "      <th>None</th>\n",
       "      <th>L</th>\n",
       "      <th>R</th>\n",
       "      <th>U</th>\n",
       "      <th>A</th>\n",
       "      <th>C</th>\n",
       "      <th>D</th>\n",
       "      <th>F</th>\n",
       "      <th>G</th>\n",
       "      <th>M</th>\n",
       "    </tr>\n",
       "  </thead>\n",
       "  <tbody>\n",
       "    <tr>\n",
       "      <th>1</th>\n",
       "      <td>1992-237</td>\n",
       "      <td>1</td>\n",
       "      <td>Guaruja</td>\n",
       "      <td>32</td>\n",
       "      <td>1992-10-26</td>\n",
       "      <td>6-4 6-4</td>\n",
       "      <td>3</td>\n",
       "      <td>R32</td>\n",
       "      <td>97.0</td>\n",
       "      <td>101063</td>\n",
       "      <td>1</td>\n",
       "      <td>standard</td>\n",
       "      <td>Jordi Arrese</td>\n",
       "      <td>175.0</td>\n",
       "      <td>ESP</td>\n",
       "      <td>28.158795</td>\n",
       "      <td>29.0</td>\n",
       "      <td>946.0</td>\n",
       "      <td>4.0</td>\n",
       "      <td>0.0</td>\n",
       "      <td>67.0</td>\n",
       "      <td>44.0</td>\n",
       "      <td>30.0</td>\n",
       "      <td>11.0</td>\n",
       "      <td>10.0</td>\n",
       "      <td>5.0</td>\n",
       "      <td>7.0</td>\n",
       "      <td>1</td>\n",
       "      <td>0</td>\n",
       "      <td>0</td>\n",
       "      <td>0</td>\n",
       "      <td>1</td>\n",
       "      <td>0</td>\n",
       "      <td>0</td>\n",
       "      <td>1</td>\n",
       "      <td>0</td>\n",
       "      <td>1</td>\n",
       "      <td>0</td>\n",
       "      <td>0</td>\n",
       "      <td>0</td>\n",
       "      <td>0</td>\n",
       "      <td>0</td>\n",
       "    </tr>\n",
       "    <tr>\n",
       "      <th>2</th>\n",
       "      <td>1992-237</td>\n",
       "      <td>2</td>\n",
       "      <td>Guaruja</td>\n",
       "      <td>32</td>\n",
       "      <td>1992-10-26</td>\n",
       "      <td>6-2 6-4</td>\n",
       "      <td>3</td>\n",
       "      <td>R32</td>\n",
       "      <td>65.0</td>\n",
       "      <td>100652</td>\n",
       "      <td>9999</td>\n",
       "      <td>WC</td>\n",
       "      <td>Cassio Motta</td>\n",
       "      <td>180.0</td>\n",
       "      <td>BRA</td>\n",
       "      <td>32.676249</td>\n",
       "      <td>201.0</td>\n",
       "      <td>171.0</td>\n",
       "      <td>7.0</td>\n",
       "      <td>4.0</td>\n",
       "      <td>52.0</td>\n",
       "      <td>35.0</td>\n",
       "      <td>29.0</td>\n",
       "      <td>9.0</td>\n",
       "      <td>9.0</td>\n",
       "      <td>1.0</td>\n",
       "      <td>1.0</td>\n",
       "      <td>1</td>\n",
       "      <td>0</td>\n",
       "      <td>0</td>\n",
       "      <td>0</td>\n",
       "      <td>1</td>\n",
       "      <td>0</td>\n",
       "      <td>0</td>\n",
       "      <td>1</td>\n",
       "      <td>0</td>\n",
       "      <td>1</td>\n",
       "      <td>0</td>\n",
       "      <td>0</td>\n",
       "      <td>0</td>\n",
       "      <td>0</td>\n",
       "      <td>0</td>\n",
       "    </tr>\n",
       "    <tr>\n",
       "      <th>3</th>\n",
       "      <td>1992-237</td>\n",
       "      <td>3</td>\n",
       "      <td>Guaruja</td>\n",
       "      <td>32</td>\n",
       "      <td>1992-10-26</td>\n",
       "      <td>6-1 6-4</td>\n",
       "      <td>3</td>\n",
       "      <td>R32</td>\n",
       "      <td>82.0</td>\n",
       "      <td>101594</td>\n",
       "      <td>9999</td>\n",
       "      <td>Q</td>\n",
       "      <td>Carsten Arriens</td>\n",
       "      <td>193.0</td>\n",
       "      <td>GER</td>\n",
       "      <td>23.542779</td>\n",
       "      <td>210.0</td>\n",
       "      <td>160.0</td>\n",
       "      <td>4.0</td>\n",
       "      <td>0.0</td>\n",
       "      <td>58.0</td>\n",
       "      <td>39.0</td>\n",
       "      <td>32.0</td>\n",
       "      <td>10.0</td>\n",
       "      <td>9.0</td>\n",
       "      <td>3.0</td>\n",
       "      <td>3.0</td>\n",
       "      <td>1</td>\n",
       "      <td>0</td>\n",
       "      <td>0</td>\n",
       "      <td>0</td>\n",
       "      <td>1</td>\n",
       "      <td>0</td>\n",
       "      <td>0</td>\n",
       "      <td>1</td>\n",
       "      <td>0</td>\n",
       "      <td>1</td>\n",
       "      <td>0</td>\n",
       "      <td>0</td>\n",
       "      <td>0</td>\n",
       "      <td>0</td>\n",
       "      <td>0</td>\n",
       "    </tr>\n",
       "    <tr>\n",
       "      <th>4</th>\n",
       "      <td>1992-237</td>\n",
       "      <td>4</td>\n",
       "      <td>Guaruja</td>\n",
       "      <td>32</td>\n",
       "      <td>1992-10-26</td>\n",
       "      <td>7-6(4) 6-1</td>\n",
       "      <td>3</td>\n",
       "      <td>R32</td>\n",
       "      <td>95.0</td>\n",
       "      <td>101761</td>\n",
       "      <td>7</td>\n",
       "      <td>standard</td>\n",
       "      <td>Jaime Oncins</td>\n",
       "      <td>196.0</td>\n",
       "      <td>BRA</td>\n",
       "      <td>22.362765</td>\n",
       "      <td>52.0</td>\n",
       "      <td>650.0</td>\n",
       "      <td>5.0</td>\n",
       "      <td>7.0</td>\n",
       "      <td>73.0</td>\n",
       "      <td>44.0</td>\n",
       "      <td>35.0</td>\n",
       "      <td>11.0</td>\n",
       "      <td>10.0</td>\n",
       "      <td>3.0</td>\n",
       "      <td>5.0</td>\n",
       "      <td>1</td>\n",
       "      <td>0</td>\n",
       "      <td>0</td>\n",
       "      <td>0</td>\n",
       "      <td>1</td>\n",
       "      <td>0</td>\n",
       "      <td>0</td>\n",
       "      <td>1</td>\n",
       "      <td>0</td>\n",
       "      <td>1</td>\n",
       "      <td>0</td>\n",
       "      <td>0</td>\n",
       "      <td>0</td>\n",
       "      <td>0</td>\n",
       "      <td>0</td>\n",
       "    </tr>\n",
       "    <tr>\n",
       "      <th>5</th>\n",
       "      <td>1992-237</td>\n",
       "      <td>5</td>\n",
       "      <td>Guaruja</td>\n",
       "      <td>32</td>\n",
       "      <td>1992-10-26</td>\n",
       "      <td>6-3 3-6 6-4</td>\n",
       "      <td>3</td>\n",
       "      <td>R32</td>\n",
       "      <td>123.0</td>\n",
       "      <td>101174</td>\n",
       "      <td>9999</td>\n",
       "      <td>WC</td>\n",
       "      <td>Fernando Roese</td>\n",
       "      <td>190.0</td>\n",
       "      <td>BRA</td>\n",
       "      <td>27.173169</td>\n",
       "      <td>187.0</td>\n",
       "      <td>185.0</td>\n",
       "      <td>4.0</td>\n",
       "      <td>4.0</td>\n",
       "      <td>79.0</td>\n",
       "      <td>47.0</td>\n",
       "      <td>33.0</td>\n",
       "      <td>11.0</td>\n",
       "      <td>14.0</td>\n",
       "      <td>4.0</td>\n",
       "      <td>10.0</td>\n",
       "      <td>1</td>\n",
       "      <td>0</td>\n",
       "      <td>0</td>\n",
       "      <td>0</td>\n",
       "      <td>1</td>\n",
       "      <td>0</td>\n",
       "      <td>0</td>\n",
       "      <td>1</td>\n",
       "      <td>0</td>\n",
       "      <td>1</td>\n",
       "      <td>0</td>\n",
       "      <td>0</td>\n",
       "      <td>0</td>\n",
       "      <td>0</td>\n",
       "      <td>0</td>\n",
       "    </tr>\n",
       "  </tbody>\n",
       "</table>\n",
       "</div>"
      ],
      "text/plain": [
       "  tourney_id  match_num tourney_name  drasize tourney_date        score  \\\n",
       "1   1992-237          1      Guaruja       32   1992-10-26      6-4 6-4   \n",
       "2   1992-237          2      Guaruja       32   1992-10-26      6-2 6-4   \n",
       "3   1992-237          3      Guaruja       32   1992-10-26      6-1 6-4   \n",
       "4   1992-237          4      Guaruja       32   1992-10-26   7-6(4) 6-1   \n",
       "5   1992-237          5      Guaruja       32   1992-10-26  6-3 3-6 6-4   \n",
       "\n",
       "   best_of round  minutes      id  seed     entry             name     ht  \\\n",
       "1        3   R32     97.0  101063     1  standard     Jordi Arrese  175.0   \n",
       "2        3   R32     65.0  100652  9999        WC     Cassio Motta  180.0   \n",
       "3        3   R32     82.0  101594  9999         Q  Carsten Arriens  193.0   \n",
       "4        3   R32     95.0  101761     7  standard     Jaime Oncins  196.0   \n",
       "5        3   R32    123.0  101174  9999        WC   Fernando Roese  190.0   \n",
       "\n",
       "   ioc        age   rank  rank_points  ace   df  svpt  1stIn  1stWon  2ndWon  \\\n",
       "1  ESP  28.158795   29.0        946.0  4.0  0.0  67.0   44.0    30.0    11.0   \n",
       "2  BRA  32.676249  201.0        171.0  7.0  4.0  52.0   35.0    29.0     9.0   \n",
       "3  GER  23.542779  210.0        160.0  4.0  0.0  58.0   39.0    32.0    10.0   \n",
       "4  BRA  22.362765   52.0        650.0  5.0  7.0  73.0   44.0    35.0    11.0   \n",
       "5  BRA  27.173169  187.0        185.0  4.0  4.0  79.0   47.0    33.0    11.0   \n",
       "\n",
       "   SvGms  bpSaved  bpFaced  target  Carpet  Clay  Grass  Hard  None  L  R  U  \\\n",
       "1   10.0      5.0      7.0       1       0     0      0     1     0  0  1  0   \n",
       "2    9.0      1.0      1.0       1       0     0      0     1     0  0  1  0   \n",
       "3    9.0      3.0      3.0       1       0     0      0     1     0  0  1  0   \n",
       "4   10.0      3.0      5.0       1       0     0      0     1     0  0  1  0   \n",
       "5   14.0      4.0     10.0       1       0     0      0     1     0  0  1  0   \n",
       "\n",
       "   A  C  D  F  G  M  \n",
       "1  1  0  0  0  0  0  \n",
       "2  1  0  0  0  0  0  \n",
       "3  1  0  0  0  0  0  \n",
       "4  1  0  0  0  0  0  \n",
       "5  1  0  0  0  0  0  "
      ]
     },
     "execution_count": 45,
     "metadata": {},
     "output_type": "execute_result"
    }
   ],
   "source": [
    "df_win_loss.head()"
   ]
  },
  {
   "cell_type": "code",
   "execution_count": 46,
   "metadata": {},
   "outputs": [
    {
     "data": {
      "text/plain": [
       "263"
      ]
     },
     "execution_count": 46,
     "metadata": {},
     "output_type": "execute_result"
    }
   ],
   "source": [
    "## Concern: if I average based on a player, will there be a possibility that nulls are returned?\n",
    "## Thought: Should alleviaete concern if only top ~100 people are included (maybe 128 is more 'tennis')\n",
    "\n",
    "# How many people of rank 100 were there, 263 different people..\n",
    "len(df_win_loss.loc[df_win_loss['rank']==100,'name'].unique())\n",
    "# How many people of rank 100 were there, 263 different people..\n",
    "len(df_win_loss.loc[df_win_loss['rank']==100,'name'].unique())\n",
    "\n",
    "##Nut-cracking: just go with it"
   ]
  },
  {
   "cell_type": "markdown",
   "metadata": {},
   "source": [
    "#### Some model, any model: do training for 2 years and test for one year \n",
    "Choose 2008-2011 (2008 for calcs for 2009,2009-2010 for train,2011 for test)"
   ]
  },
  {
   "cell_type": "markdown",
   "metadata": {},
   "source": [
    "### Preliminaries established from previous work:"
   ]
  },
  {
   "cell_type": "code",
   "execution_count": 47,
   "metadata": {},
   "outputs": [
    {
     "data": {
      "text/plain": [
       "numpy.ndarray"
      ]
     },
     "execution_count": 47,
     "metadata": {},
     "output_type": "execute_result"
    }
   ],
   "source": [
    "type(df_win_loss.tourney_date.values)"
   ]
  },
  {
   "cell_type": "code",
   "execution_count": 48,
   "metadata": {},
   "outputs": [],
   "source": [
    "df_wl_2008_11 = df_win_loss[(df_win_loss.tourney_date.apply(lambda x:x.year)<2012) \\\n",
    "                            & (df_win_loss.tourney_date.apply(lambda x:x.year)>2007)]\n",
    "#Below show that this gives what wanted (array([2008, 2009, 2010, 2011]))\n",
    "# df_win_loss.loc[(df_win_loss.tourney_date.apply(lambda x:x.year)<2012) \\\n",
    "#                 & (df_win_loss.tourney_date.apply(lambda x:x.year)>2007),'tourney_date'].apply(lambda x: x.year).unique()"
   ]
  },
  {
   "cell_type": "markdown",
   "metadata": {},
   "source": [
    "### Some model, any model: what needed to generate training data"
   ]
  },
  {
   "cell_type": "code",
   "execution_count": 49,
   "metadata": {},
   "outputs": [],
   "source": [
    "# 'tourney_date' included compared to previous, for purpose of stat aggregation\n",
    "df_wl_2008_11_for_pred = df_wl_2008_11[['name','tourney_date','minutes', \n",
    "       'ht', 'age', 'rank_points', 'ace', 'df',\n",
    "       'svpt', '1stIn', '1stWon', '2ndWon', 'SvGms', 'bpSaved', 'bpFaced',\n",
    "       'Carpet', 'Clay', 'Grass', 'Hard', 'None', 'L', 'R', 'U', 'A',\n",
    "       'C', 'D', 'F', 'G', 'M','target']]"
   ]
  },
  {
   "cell_type": "markdown",
   "metadata": {},
   "source": [
    "#### Getting a limited dataset to test code:"
   ]
  },
  {
   "cell_type": "code",
   "execution_count": 50,
   "metadata": {},
   "outputs": [
    {
     "data": {
      "text/plain": [
       "(281, 30)"
      ]
     },
     "execution_count": 50,
     "metadata": {},
     "output_type": "execute_result"
    }
   ],
   "source": [
    "## what player is good for this \n",
    "df_wl_2008_11_for_pred.groupby('name').filter(lambda x: len(x) > 20)['name'].value_counts()\n",
    "## getting David Ferrer data (281 rows)\n",
    "df_test = df_wl_2008_11_for_pred[df_wl_2008_11_for_pred['name']=='David Ferrer']\n",
    "df_test.shape"
   ]
  },
  {
   "cell_type": "markdown",
   "metadata": {},
   "source": [
    "#### What I am trying to do:\n",
    "1. start with 2008 to 2011 data\n",
    "2. make a new dataframe that calculates stats of **each match** of year 2009 and 2010\n",
    "based on **all matches by that player** in prevous year\n",
    "3. restrict new dataframe: remove 'tourney_date' and 'name'\n",
    "4. train model on this generated data \n",
    "5. make a new dataframe that calculates stats of **each match** of year 2011 \n",
    "based on **all matches by that player** in prevous year \n",
    "6. using trained model, predict the outcome"
   ]
  },
  {
   "cell_type": "code",
   "execution_count": 51,
   "metadata": {},
   "outputs": [
    {
     "name": "stdout",
     "output_type": "stream",
     "text": [
      "Variable                 Type         Data/Info\n",
      "-----------------------------------------------\n",
      "Counter                  type         <class 'collections.Counter'>\n",
      "LogisticRegression       type         <class 'sklearn.linear_mo<...>stic.LogisticRegression'>\n",
      "MinMaxScaler             type         <class 'sklearn.preprocessing.data.MinMaxScaler'>\n",
      "StandardScaler           type         <class 'sklearn.preproces<...>ing.data.StandardScaler'>\n",
      "date                     datetime     2010-11-23 00:00:00\n",
      "datetime                 type         <class 'datetime.datetime'>\n",
      "df_one_year              DataFrame           tourney_id  match_<...>n[5462 rows x 42 columns]\n",
      "df_pred_cols             DataFrame          minutes     ht     <...>162562 rows x 27 columns]\n",
      "df_stats                 DataFrame         tourney_id  tourney_<...>[81281 rows x 49 columns]\n",
      "df_test                  DataFrame                    name tour<...>\\n[281 rows x 30 columns]\n",
      "df_win_loss              DataFrame           tourney_id  match_<...>162562 rows x 42 columns]\n",
      "df_wl_2008_11            DataFrame           tourney_id  match_<...>[21604 rows x 42 columns]\n",
      "df_wl_2008_11_for_pred   DataFrame                             <...>[21604 rows x 30 columns]\n",
      "glob                     module       <module 'glob' from '/hom<...>3/lib/python3.6/glob.py'>\n",
      "matches_SackmannAll      DataFrame         tourney_id          <...>167879 rows x 49 columns]\n",
      "np                       module       <module 'numpy' from '/ho<...>kages/numpy/__init__.py'>\n",
      "one_year                 timedelta    370 days, 0:00:00\n",
      "pd                       module       <module 'pandas' from '/h<...>ages/pandas/__init__.py'>\n",
      "pdist                    function     <function pdist at 0x7f0f4684d8c8>\n",
      "player1                  str          Rafael Nadal\n",
      "player2                  str          Novak Djokovic\n",
      "plt                      module       <module 'matplotlib.pyplo<...>es/matplotlib/pyplot.py'>\n",
      "precision_score          function     <function precision_score at 0x7f0f3e551ae8>\n",
      "re                       module       <module 're' from '/home/<...>da3/lib/python3.6/re.py'>\n",
      "read1900sMatches         function     <function read1900sMatches at 0x7f0f3c38db70>\n",
      "read2000sMatches         function     <function read2000sMatches at 0x7f0f3c38dbf8>\n",
      "recall_score             function     <function recall_score at 0x7f0f3e551b70>\n",
      "squareform               function     <function squareform at 0x7f0f4684dc80>\n",
      "timedelta                type         <class 'datetime.timedelta'>\n",
      "tourney_date             ndarray      162562: 162562 elems, type `int64`, 1300496 bytes (1.2402496337890625 Mb)\n",
      "train_test_split         function     <function train_test_split at 0x7f0f3e537f28>\n"
     ]
    }
   ],
   "source": [
    "whos"
   ]
  },
  {
   "cell_type": "code",
   "execution_count": 52,
   "metadata": {},
   "outputs": [],
   "source": [
    "# for use after running next cell to repeat running it...remove cacheing\n",
    "# del(idx,gen_row,df_preds_2009_11,one_row)\n"
   ]
  },
  {
   "cell_type": "code",
   "execution_count": 53,
   "metadata": {},
   "outputs": [
    {
     "data": {
      "text/plain": [
       "Index(['minutes', 'ht', 'age', 'rank_points', 'ace', 'df', 'svpt', '1stIn',\n",
       "       '1stWon', '2ndWon', 'SvGms', 'bpSaved', 'bpFaced', 'Carpet', 'Clay',\n",
       "       'Grass', 'Hard', 'None', 'L', 'R', 'U', 'A', 'C', 'D', 'F', 'G', 'M',\n",
       "       'target'],\n",
       "      dtype='object')"
      ]
     },
     "execution_count": 53,
     "metadata": {},
     "output_type": "execute_result"
    }
   ],
   "source": [
    "df_test.columns.drop(['tourney_date','name'])"
   ]
  },
  {
   "cell_type": "markdown",
   "metadata": {},
   "source": [
    "#### Trying rolling windows in pandas:\n"
   ]
  },
  {
   "cell_type": "code",
   "execution_count": 54,
   "metadata": {},
   "outputs": [],
   "source": [
    "#Sorting the dataframe on time as prestep:\n",
    "\n",
    "df_win_loss.columns\n",
    "# Index(['tourney_id', 'match_num', 'tourney_name', 'drasize', 'tourney_date',\n",
    "#        'score', 'best_of', 'round', 'minutes', 'id', 'seed', 'entry', 'name',\n",
    "#        'ht', 'ioc', 'age', 'rank', 'rank_points', 'ace', 'df', 'svpt', '1stIn',\n",
    "#        '1stWon', '2ndWon', 'SvGms', 'bpSaved', 'bpFaced', 'target', 'Carpet',\n",
    "#        'Clay', 'Grass', 'Hard', 'None', 'L', 'R', 'U', 'A', 'C', 'D', 'F', 'G',\n",
    "#        'M'],\n",
    "#       dtype='object')\n",
    "\n",
    "# check datetime column is indeed datatime\n",
    "#df_win_loss.tourney_date.apply(lambda date: date.year) #returns years\n",
    "\n",
    "df_wl_sort = df_win_loss.sort_values(['tourney_date','match_num'],ascending=[1,1],axis=0)\n",
    "\n",
    "df_wl_sort_colSlct = df_wl_sort[['name','match_num','tourney_date','minutes', \n",
    "       'ht', 'age', 'rank_points', 'ace', 'df',\n",
    "       'svpt', '1stIn', '1stWon', '2ndWon', 'SvGms', 'bpSaved', 'bpFaced',\n",
    "       'Carpet', 'Clay', 'Grass', 'Hard', 'None', 'L', 'R', 'U', 'A',\n",
    "       'C', 'D', 'F', 'G', 'M','target']]\n",
    "\n",
    "df_wl_sort_refCols = df_wl_sort[['tourney_date','match_num', 'name']]\n",
    "\n",
    "# df_wl_2008_11_for_pred = df_wl_2008_11[['name','tourney_date','minutes', \n",
    "#        'ht', 'age', 'rank_points', 'ace', 'df',\n",
    "#        'svpt', '1stIn', '1stWon', '2ndWon', 'SvGms', 'bpSaved', 'bpFaced',\n",
    "#        'Carpet', 'Clay', 'Grass', 'Hard', 'None', 'L', 'R', 'U', 'A',\n",
    "#        'C', 'D', 'F', 'G', 'M','target']]"
   ]
  },
  {
   "cell_type": "markdown",
   "metadata": {},
   "source": [
    "#### Rolling index having issues"
   ]
  },
  {
   "cell_type": "code",
   "execution_count": 55,
   "metadata": {},
   "outputs": [],
   "source": [
    "#del(df_years,player)"
   ]
  },
  {
   "cell_type": "code",
   "execution_count": 56,
   "metadata": {},
   "outputs": [],
   "source": [
    "def get_time(starting_df,early,late):\n",
    "    return starting_df[(starting_df.tourney_date.apply(lambda x:x.year)<late+1) \\\n",
    "                        & (starting_df.tourney_date.apply(lambda x:x.year)>early-2)]\n",
    "\n",
    "\n",
    "def get_player_dfs(starting_df,player_name):\n",
    "    return starting_df[starting_df['name']==player_name]"
   ]
  },
  {
   "cell_type": "code",
   "execution_count": 57,
   "metadata": {},
   "outputs": [],
   "source": [
    "tr_start = 1993\n",
    "tr_end = 2011\n",
    "years_df = get_time(df_wl_sort_colSlct,tr_start,tr_end)\n",
    "years_test_df = get_player_dfs(years_df,'Roger Federer')\n"
   ]
  },
  {
   "cell_type": "markdown",
   "metadata": {},
   "source": [
    "## To do when I have some kind of model: convert below to functioon"
   ]
  },
  {
   "cell_type": "code",
   "execution_count": 58,
   "metadata": {},
   "outputs": [],
   "source": [
    "##Training dataset\n",
    "\n",
    "#Concern: does this take the current data data into (use .shift() at end)\n",
    "\n",
    "#get_level_values\n",
    "\n",
    "#Steps\n",
    "# 1. create blank dataframe\n",
    "# 2. write a function to get a subdataframe\n",
    "\n",
    "\n",
    "\n",
    "# part_df_as_dict = dict(part_df)\n",
    "# part_df_as_dict.keys()\n",
    "\n",
    "\n",
    "\n",
    "plyr_yr_df = pd.DataFrame()\n",
    "new_df = pd.DataFrame()\n",
    "# I want\n",
    "computed_df = pd.DataFrame()\n",
    "# new_cols = plyr_yr_df.columns.append('name')\n",
    "train_target = pd.Series()\n",
    "\n",
    "for player in years_df['name'].unique():\n",
    "    plyr_yr_df = get_player_dfs(years_df,player)\n",
    "    part_train_target = plyr_yr_df['target']\n",
    "    part_compute_df =  plyr_yr_df.drop('name',axis=1).rolling(one_year,on='tourney_date').mean().shift(1)\n",
    "    part_compute_df['name'] = player\n",
    "    new_df = new_df.append(part_compute_df)\n",
    "    train_target = train_target.append(part_train_target)\n",
    "\n",
    "new_df['target'] = train_target    \n",
    "train_computed_df = new_df.dropna()\n",
    "\n"
   ]
  },
  {
   "cell_type": "code",
   "execution_count": 59,
   "metadata": {},
   "outputs": [
    {
     "name": "stdout",
     "output_type": "stream",
     "text": [
      "<class 'pandas.core.frame.DataFrame'>\n",
      "Int64Index: 119066 entries, 82095 to 152311\n",
      "Data columns (total 31 columns):\n",
      "match_num       119066 non-null float64\n",
      "tourney_date    119066 non-null datetime64[ns]\n",
      "minutes         119066 non-null float64\n",
      "ht              119066 non-null float64\n",
      "age             119066 non-null float64\n",
      "rank_points     119066 non-null float64\n",
      "ace             119066 non-null float64\n",
      "df              119066 non-null float64\n",
      "svpt            119066 non-null float64\n",
      "1stIn           119066 non-null float64\n",
      "1stWon          119066 non-null float64\n",
      "2ndWon          119066 non-null float64\n",
      "SvGms           119066 non-null float64\n",
      "bpSaved         119066 non-null float64\n",
      "bpFaced         119066 non-null float64\n",
      "Carpet          119066 non-null float64\n",
      "Clay            119066 non-null float64\n",
      "Grass           119066 non-null float64\n",
      "Hard            119066 non-null float64\n",
      "None            119066 non-null float64\n",
      "L               119066 non-null float64\n",
      "R               119066 non-null float64\n",
      "U               119066 non-null float64\n",
      "A               119066 non-null float64\n",
      "C               119066 non-null float64\n",
      "D               119066 non-null float64\n",
      "F               119066 non-null float64\n",
      "G               119066 non-null float64\n",
      "M               119066 non-null float64\n",
      "target          119066 non-null int64\n",
      "name            119066 non-null object\n",
      "dtypes: datetime64[ns](1), float64(28), int64(1), object(1)\n",
      "memory usage: 29.1+ MB\n"
     ]
    }
   ],
   "source": [
    "train_computed_df.info()"
   ]
  },
  {
   "cell_type": "code",
   "execution_count": 60,
   "metadata": {},
   "outputs": [
    {
     "data": {
      "text/plain": [
       "119066"
      ]
     },
     "execution_count": 60,
     "metadata": {},
     "output_type": "execute_result"
    }
   ],
   "source": [
    "years_df.shape #120650 by 31\n",
    "new_df.shape #120650 by 31\n",
    "train_computed_df.shape #119066,31\n",
    "train_target.shape  #(120650,)\n",
    "train_computed_df.target.unique()\n",
    "len(train_computed_df.target)"
   ]
  },
  {
   "cell_type": "code",
   "execution_count": 61,
   "metadata": {},
   "outputs": [],
   "source": [
    "## Test data set\n",
    "\n",
    "tr_start = 2012\n",
    "tr_end = 2017\n",
    "years_df = get_time(df_wl_sort_colSlct,tr_start,tr_end)\n",
    "\n",
    "\n",
    "\n",
    "plyr_yr_df = pd.DataFrame()\n",
    "new_df = pd.DataFrame()\n",
    "computed_df = pd.DataFrame\n",
    "test_target = pd.Series()\n",
    "\n",
    "for player in years_df['name'].unique():\n",
    "    plyr_yr_df = get_player_dfs(years_df,player)\n",
    "    part_test_target = plyr_yr_df['target']\n",
    "    part_compute_df =  plyr_yr_df.drop('name',axis=1).rolling(one_year,on='tourney_date').mean().shift(1)\n",
    "    part_compute_df['name'] = player\n",
    "    new_df = new_df.append(part_compute_df)\n",
    "    test_target = test_target.append(part_test_target)\n",
    "    \n",
    "new_df['target'] = test_target\n",
    "new_df.dropna(inplace=True)\n",
    "test_computed_df = new_df[new_df.tourney_date.apply(lambda x:x.year>2011)]\n",
    "\n",
    "\n",
    "\n",
    "    \n",
    "\n"
   ]
  },
  {
   "cell_type": "code",
   "execution_count": 62,
   "metadata": {},
   "outputs": [
    {
     "data": {
      "text/plain": [
       "(31768, 31)"
      ]
     },
     "execution_count": 62,
     "metadata": {},
     "output_type": "execute_result"
    }
   ],
   "source": [
    "years_df.shape #37900(too big,includes 2011) by 31\n",
    "new_df.shape #37900 (too big,includes 2011) by 31\n",
    "test_computed_df.shape # old: 37097 (too big,includes 2011),31: new: correct(?) 31768, 31\n"
   ]
  },
  {
   "cell_type": "markdown",
   "metadata": {},
   "source": [
    "## Logistic Regression"
   ]
  },
  {
   "cell_type": "code",
   "execution_count": 63,
   "metadata": {},
   "outputs": [],
   "source": [
    "# Data prep\n",
    "lgstc_train_df = train_computed_df.drop(['name','tourney_date','match_num'],axis=1)\n",
    "lgstc_test_df = test_computed_df.drop(['name','tourney_date','match_num'],axis=1)"
   ]
  },
  {
   "cell_type": "code",
   "execution_count": 64,
   "metadata": {},
   "outputs": [],
   "source": [
    "lgstc_reg_model=LogisticRegression()"
   ]
  },
  {
   "cell_type": "code",
   "execution_count": 65,
   "metadata": {},
   "outputs": [
    {
     "data": {
      "text/plain": [
       "0.5886819075134799"
      ]
     },
     "execution_count": 65,
     "metadata": {},
     "output_type": "execute_result"
    }
   ],
   "source": [
    "lgstc_reg_model.fit(lgstc_train_df.drop('target',axis=1), lgstc_train_df['target'])\n",
    "## score on training data is 0.5886819\n",
    "lgstc_reg_model.score(lgstc_train_df.drop('target',axis=1), lgstc_train_df['target']) "
   ]
  },
  {
   "cell_type": "code",
   "execution_count": 66,
   "metadata": {},
   "outputs": [
    {
     "data": {
      "text/plain": [
       "0.5939939561823219"
      ]
     },
     "execution_count": 66,
     "metadata": {},
     "output_type": "execute_result"
    }
   ],
   "source": [
    "## score of 0.593993956\n",
    "lgstc_reg_model.score(lgstc_test_df.drop('target',axis=1), lgstc_test_df['target']) "
   ]
  },
  {
   "cell_type": "code",
   "execution_count": 89,
   "metadata": {},
   "outputs": [
    {
     "data": {
      "text/plain": [
       "array([[ 5.12274021e-04,  3.18856510e-03, -2.87696281e-02,\n",
       "         3.14376945e-04, -2.08505188e-02, -2.04584818e-02,\n",
       "        -3.31871930e-02, -9.91671845e-04,  5.37855450e-02,\n",
       "         5.86963368e-02,  1.17052601e-02,  2.38069537e-02,\n",
       "        -3.49979657e-02,  1.81148313e-01,  4.54115251e-02,\n",
       "        -1.28723760e-01, -7.34898645e-02,  0.00000000e+00,\n",
       "         2.28967341e-02,  3.85562460e-02, -3.71067669e-02,\n",
       "        -3.00521376e-01, -2.71216946e-03,  0.00000000e+00,\n",
       "        -2.73404629e-03, -7.67665805e-02,  4.07080386e-01]])"
      ]
     },
     "execution_count": 89,
     "metadata": {},
     "output_type": "execute_result"
    }
   ],
   "source": [
    "lgstc_reg_model.coef_"
   ]
  },
  {
   "cell_type": "code",
   "execution_count": 98,
   "metadata": {
    "collapsed": true
   },
   "outputs": [
    {
     "data": {
      "text/plain": [
       "Index(['minutes', 'ht', 'age', 'rank_points', 'ace', 'df', 'svpt', '1stIn',\n",
       "       '1stWon', '2ndWon', 'SvGms', 'bpSaved', 'bpFaced', 'Carpet', 'Clay',\n",
       "       'Grass', 'Hard', 'None', 'L', 'R', 'U', 'A', 'C', 'D', 'F', 'G', 'M',\n",
       "       'target'],\n",
       "      dtype='object')"
      ]
     },
     "execution_count": 98,
     "metadata": {},
     "output_type": "execute_result"
    }
   ],
   "source": [
    "lgstc_train_df.columns\n"
   ]
  },
  {
   "cell_type": "code",
   "execution_count": 99,
   "metadata": {
    "collapsed": true
   },
   "outputs": [
    {
     "data": {
      "text/plain": [
       "minutes        100.887124\n",
       "ht             184.890673\n",
       "age             24.901440\n",
       "rank_points    999.859448\n",
       "ace              5.467182\n",
       "df               3.160599\n",
       "svpt            79.384532\n",
       "1stIn           47.267399\n",
       "1stWon          33.474263\n",
       "2ndWon          16.038430\n",
       "SvGms           12.217914\n",
       "bpSaved          4.192700\n",
       "bpFaced          6.995612\n",
       "Carpet           0.088346\n",
       "Clay             0.345606\n",
       "Grass            0.096898\n",
       "Hard             0.469150\n",
       "None             0.000000\n",
       "L                0.145390\n",
       "R                0.853955\n",
       "U                0.000655\n",
       "A                0.652743\n",
       "C                0.000417\n",
       "D                0.000000\n",
       "F                0.004168\n",
       "G                0.167011\n",
       "M                0.175662\n",
       "target           0.503024\n",
       "dtype: float64"
      ]
     },
     "execution_count": 99,
     "metadata": {},
     "output_type": "execute_result"
    }
   ],
   "source": [
    "np.mean(lgstc_train_df)"
   ]
  },
  {
   "cell_type": "code",
   "execution_count": 92,
   "metadata": {},
   "outputs": [],
   "source": [
    "norm_coeff = lgstc_reg_model.coef_/10**-4"
   ]
  },
  {
   "cell_type": "code",
   "execution_count": 100,
   "metadata": {},
   "outputs": [
    {
     "data": {
      "text/plain": [
       "array([[ 5.12274021e+00,  3.18856510e+01, -2.87696281e+02,\n",
       "         3.14376945e+00, -2.08505188e+02, -2.04584818e+02,\n",
       "        -3.31871930e+02, -9.91671845e+00,  5.37855450e+02,\n",
       "         5.86963368e+02,  1.17052601e+02,  2.38069537e+02,\n",
       "        -3.49979657e+02,  1.81148313e+03,  4.54115251e+02,\n",
       "        -1.28723760e+03, -7.34898645e+02,  0.00000000e+00,\n",
       "         2.28967341e+02,  3.85562460e+02, -3.71067669e+02,\n",
       "        -3.00521376e+03, -2.71216946e+01,  0.00000000e+00,\n",
       "        -2.73404629e+01, -7.67665805e+02,  4.07080386e+03]])"
      ]
     },
     "execution_count": 100,
     "metadata": {},
     "output_type": "execute_result"
    }
   ],
   "source": [
    "norm_coeff"
   ]
  },
  {
   "cell_type": "markdown",
   "metadata": {},
   "source": [
    "## Logistic Regression, sclaed"
   ]
  },
  {
   "cell_type": "code",
   "execution_count": 109,
   "metadata": {},
   "outputs": [],
   "source": [
    "y_train_sc = train_computed_df['target']\n",
    "y_test_sc = test_computed_df['target']"
   ]
  },
  {
   "cell_type": "code",
   "execution_count": 110,
   "metadata": {},
   "outputs": [
    {
     "data": {
      "text/plain": [
       "numpy.ndarray"
      ]
     },
     "execution_count": 110,
     "metadata": {},
     "output_type": "execute_result"
    }
   ],
   "source": [
    "logistic_scaler = MinMaxScaler()\n",
    "logistic_scaler.fit(train_computed_df.drop(['name','tourney_date','match_num','target'],axis=1))\n",
    "scaled_train_df = logistic_scaler.transform(train_computed_df.drop(['name','tourney_date','match_num','target'],axis=1))\n",
    "scaled_test_df = logistic_scaler.transform(test_computed_df.drop(['name','tourney_date','match_num','target'],axis=1))\n",
    "type(scaled_train_df)"
   ]
  },
  {
   "cell_type": "code",
   "execution_count": 112,
   "metadata": {},
   "outputs": [
    {
     "data": {
      "text/plain": [
       "0.5887742932491223"
      ]
     },
     "execution_count": 112,
     "metadata": {},
     "output_type": "execute_result"
    }
   ],
   "source": [
    "scaled_lgstc_reg_model=LogisticRegression()\n",
    "scaled_lgstc_reg_model.fit(scaled_train_df, y_train_sc)\n",
    "## score on training data is .588774\n",
    "scaled_lgstc_reg_model.score(scaled_train_df, y_train_sc) "
   ]
  },
  {
   "cell_type": "code",
   "execution_count": 113,
   "metadata": {},
   "outputs": [
    {
     "data": {
      "text/plain": [
       "0.5947179551750189"
      ]
     },
     "execution_count": 113,
     "metadata": {},
     "output_type": "execute_result"
    }
   ],
   "source": [
    "## score of 0.594717955\n",
    "scaled_lgstc_reg_model.score(scaled_test_df, y_test_sc)"
   ]
  },
  {
   "cell_type": "code",
   "execution_count": 121,
   "metadata": {},
   "outputs": [
    {
     "data": {
      "text/plain": [
       "array([[ 1.53322695e-01, -1.86435695e-03, -8.33838441e-01,\n",
       "         3.92419265e+00, -4.30526072e-01, -4.53912659e-01,\n",
       "        -2.41456679e+00, -5.48462606e-01,  2.46463753e+00,\n",
       "         1.01135002e+00,  7.89215041e-01,  1.47229625e+00,\n",
       "        -2.94299274e+00,  2.27717696e-01,  9.71644166e-03,\n",
       "        -1.78136657e-01, -1.14311073e-01,  0.00000000e+00,\n",
       "         2.76035025e-01,  2.89041757e-01, -6.20090374e-01,\n",
       "        -3.03225875e-01, -1.66457458e-01,  0.00000000e+00,\n",
       "         5.81086214e-02, -1.48221569e-01,  5.43521770e-01]])"
      ]
     },
     "execution_count": 121,
     "metadata": {},
     "output_type": "execute_result"
    }
   ],
   "source": [
    "scaled_lgstc_reg_model.coef_"
   ]
  },
  {
   "cell_type": "code",
   "execution_count": 127,
   "metadata": {},
   "outputs": [],
   "source": []
  },
  {
   "cell_type": "code",
   "execution_count": null,
   "metadata": {},
   "outputs": [],
   "source": [
    "logistic_scaler.fit(scaled_lgstc_reg_model.coef_.reshape(-1,1))\n",
    "norm_scaled_lgstc_reg_coeffs = logistic_scaler.transform(scaled_lgstc_reg_model.coef_)\n",
    "norm_scaled_lgstc_reg_coeffs\n",
    "np.min(norm_scaled_lgstc_reg_coeffs) #min 0 max 1 as desired"
   ]
  },
  {
   "cell_type": "markdown",
   "metadata": {},
   "source": [
    "#### using min-max scaled coefficients, suspect problematic"
   ]
  },
  {
   "cell_type": "code",
   "execution_count": null,
   "metadata": {},
   "outputs": [],
   "source": [
    "lgstc_reg_series = pd.Series(norm_scaled_lgstc_reg_coeffs[0],index=train_computed_df.drop(['name','tourney_date','match_num','target'],axis=1).columns)\n",
    "sorted_lgstc_series=lgstc_reg_series.sort_values(ascending=False)\n",
    "sorted_lgstc_series"
   ]
  },
  {
   "cell_type": "code",
   "execution_count": 140,
   "metadata": {},
   "outputs": [
    {
     "data": {
      "image/png": "[encoded data removed]",
      "text/plain": [
       "<Figure size 720x576 with 1 Axes>"
      ]
     },
     "metadata": {},
     "output_type": "display_data"
    }
   ],
   "source": [
    "x=sorted_lgstc_series.index\n",
    "y=sorted_lgstc_series\n",
    "plt.figure(figsize=(10,8))\n",
    "plt.bar(x, y, align=\"center\",color='purple',linewidth=2)\n",
    "plt.xticks(rotation=90)\n",
    "plt.show()"
   ]
  },
  {
   "cell_type": "markdown",
   "metadata": {},
   "source": [
    "# Not working"
   ]
  },
  {
   "cell_type": "code",
   "execution_count": null,
   "metadata": {},
   "outputs": [],
   "source": [
    "## Code testing with David Ferrer\n",
    "\n",
    "player = 'David Ferrer'\n",
    "\n",
    "\n",
    "one_year=timedelta(days=370)\n",
    "\n",
    "#for training...\n",
    "gen_row = []\n",
    "one_row = []\n",
    "\n",
    "#iterates over columns, without 'iterrows()'!\n",
    "for idx, row in df_test[(df_test.tourney_date.apply(lambda x:x.year)<2011) \\\n",
    "                        & (df_test.tourney_date.apply(lambda x:x.year)>2008)].iterrows():\n",
    "    date = row['tourney_date']\n",
    "    df_one_year_in_2008_10 = df_test[(df_test.tourney_date<date) & (df_test.tourney_date> date-one_year)]\n",
    "    df_one_year_in_2008_10.drop(['tourney_date'], axis=1,inplace=True)\n",
    "    \n",
    "    #worked momentarily but not working anymore, ...\n",
    "    #...but funny to have a random index, but not working if 'igonre_index=True' in .append() method\n",
    "    #gen_row[np.random.random()] = dict(df_one_year_in_2008_10[df_one_year_in_2008_10['name']==player].drop('name',axis=1).aggregate(np.mean))\n",
    "    #df_preds_2009_11.append(gen_row)\n",
    "    \n",
    "    # still does not like not having index, and 'igonre_index=Ture' in .append() method yield an empty output \n",
    "    # gen_row = dict(df_one_year_in_2008_10[df_one_year_in_2008_10['name']==player].drop('name',axis=1).aggregate(np.mean))\n",
    "    \n",
    "    \n",
    "    one_row = df_one_year_in_2008_10[df_one_year_in_2008_10['name']==player].drop('name',axis=1).aggregate(np.mean)\n",
    "    gen_row.append(one_row)\n",
    "\n",
    "    \n",
    "    \n",
    "    #print(gen_row)\n",
    "    #if idx > 0:\n",
    "    #    break\n",
    "    \n",
    "     \n",
    "df_preds_2009_11= pd.DataFrame()   \n",
    "# df_preds_2009_11.index\n",
    "# df_preds_2009_11\n",
    "gen_row\n",
    "\n",
    "\n",
    "## For efficiency implement this, tuples timed to be better than list/dict in SO:\n",
    "## https://stackoverflow.com/questions/12376863/adding-calculated-columns-to-a-dataframe-in-pandas?rq=1\n",
    "\n",
    "# d = []\n",
    "# for p in game.players.passing():\n",
    "#     d.append((p, p.team, p.passer_rating()))\n",
    "\n",
    "# pd.DataFrame(d, columns=('Player', 'Team', 'Passer Rating'))"
   ]
  },
  {
   "cell_type": "markdown",
   "metadata": {},
   "source": [
    "# _ASIDE_: Cool python/pandas stuff"
   ]
  },
  {
   "cell_type": "code",
   "execution_count": null,
   "metadata": {},
   "outputs": [],
   "source": []
  },
  {
   "cell_type": "code",
   "execution_count": null,
   "metadata": {},
   "outputs": [],
   "source": []
  }
 ],
 "metadata": {
  "kernelspec": {
   "display_name": "Python 3",
   "language": "python",
   "name": "python3"
  },
  "language_info": {
   "codemirror_mode": {
    "name": "ipython",
    "version": 3
   },
   "file_extension": ".py",
   "mimetype": "text/x-python",
   "name": "python",
   "nbconvert_exporter": "python",
   "pygments_lexer": "ipython3",
   "version": "3.6.5"
  }
 },
 "nbformat": 4,
 "nbformat_minor": 2
}
