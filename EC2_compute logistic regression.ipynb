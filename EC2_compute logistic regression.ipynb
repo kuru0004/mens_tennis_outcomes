{
 "cells": [
  {
   "cell_type": "code",
   "execution_count": 1,
   "metadata": {},
   "outputs": [],
   "source": [
    "import numpy as np\n",
    "import pandas as pd\n",
    "import matplotlib.pyplot as plt \n",
    "#needed for Jupyter Notebook, if want plots to show inline\n",
    "%matplotlib inline \n",
    "pd.options.display.max_columns = None\n",
    "pd.options.display.max_rows = 100"
   ]
  },
  {
   "cell_type": "code",
   "execution_count": 2,
   "metadata": {},
   "outputs": [],
   "source": [
    "import glob\n",
    "import re\n",
    "plt.style.available\n",
    "plt.style.use('seaborn-colorblind')"
   ]
  },
  {
   "cell_type": "code",
   "execution_count": 3,
   "metadata": {},
   "outputs": [],
   "source": [
    "from collections import Counter\n",
    "from scipy.spatial.distance import pdist, squareform\n",
    "from sklearn.metrics import precision_score, recall_score\n",
    "from sklearn.preprocessing import MinMaxScaler, StandardScaler\n",
    "from sklearn.linear_model import LogisticRegression"
   ]
  },
  {
   "cell_type": "code",
   "execution_count": 4,
   "metadata": {},
   "outputs": [
    {
     "name": "stdout",
     "output_type": "stream",
     "text": [
      "Variable     Type        Data/Info\n",
      "----------------------------------\n",
      "Counter      type        <class 'collections.Counter'>\n",
      "KMeans       type        <class 'sklearn.cluster.k_means_.KMeans'>\n",
      "glob         module      <module 'glob' from '/hom<...>3/lib/python3.6/glob.py'>\n",
      "np           module      <module 'numpy' from '/ho<...>kages/numpy/__init__.py'>\n",
      "pd           module      <module 'pandas' from '/h<...>ages/pandas/__init__.py'>\n",
      "pdist        function    <function pdist at 0x7fb4badb5ea0>\n",
      "plt          module      <module 'matplotlib.pyplo<...>es/matplotlib/pyplot.py'>\n",
      "re           module      <module 're' from '/home/<...>da3/lib/python3.6/re.py'>\n",
      "squareform   function    <function squareform at 0x7fb4badc82f0>\n"
     ]
    }
   ],
   "source": [
    "%whos"
   ]
  },
  {
   "cell_type": "markdown",
   "metadata": {},
   "source": [
    "## Loading data"
   ]
  },
  {
   "cell_type": "code",
   "execution_count": 5,
   "metadata": {},
   "outputs": [],
   "source": [
    "def read2000sMatches(dirname):\n",
    "    allFiles = glob.glob(dirname + \"/atp_matches_2\" + \"*.csv\")\n",
    "    matches = pd.DataFrame()\n",
    "    list_ = list()\n",
    "    for filen in allFiles:\n",
    "        df = pd.read_csv(filen,\n",
    "                         index_col=None,\n",
    "                         header=0,\n",
    "                         parse_dates=[0])\n",
    "                         #date_parser=lambda t:parse(t))\n",
    "        list_.append(df)\n",
    "    matches = pd.concat(list_)\n",
    "    return matches\n",
    "\n",
    "def read1900sMatches(dirname):\n",
    "    allFiles = glob.glob(dirname + \"/atp_matches_1\" + \"*.csv\")\n",
    "    matches = pd.DataFrame()\n",
    "    list_ = list()\n",
    "    for filen in allFiles:\n",
    "        df = pd.read_csv(filen,\n",
    "                         index_col=None,\n",
    "                         header=0,\n",
    "                         parse_dates=[0])\n",
    "                         #date_parser=lambda t:parse(t))\n",
    "        list_.append(df)\n",
    "    matches = pd.concat(list_)\n",
    "    return matches"
   ]
  },
  {
   "cell_type": "code",
   "execution_count": 6,
   "metadata": {},
   "outputs": [
    {
     "data": {
      "text/plain": [
       "(167879, 49)"
      ]
     },
     "execution_count": 6,
     "metadata": {},
     "output_type": "execute_result"
    }
   ],
   "source": [
    "matches2000s=read2000sMatches('tennis/')\n",
    "matches1900s=read1900sMatches('tennis/')\n",
    "matches_SackmannAll = pd.concat([matches1900s,matches2000s])\n",
    "matches_SackmannAll.shape # (167879, 49)"
   ]
  },
  {
   "cell_type": "markdown",
   "metadata": {},
   "source": [
    "## Take only data with detailed stats"
   ]
  },
  {
   "cell_type": "code",
   "execution_count": 7,
   "metadata": {
    "collapsed": true
   },
   "outputs": [
    {
     "name": "stdout",
     "output_type": "stream",
     "text": [
      "<class 'pandas.core.frame.DataFrame'>\n",
      "Int64Index: 81281 entries, 15 to 2823\n",
      "Data columns (total 49 columns):\n",
      "tourney_id            81281 non-null object\n",
      "tourney_name          81281 non-null object\n",
      "surface               81281 non-null object\n",
      "draw_size             81281 non-null int64\n",
      "tourney_level         81281 non-null object\n",
      "tourney_date          81281 non-null int64\n",
      "match_num             81281 non-null int64\n",
      "winner_id             81281 non-null int64\n",
      "winner_seed           36056 non-null float64\n",
      "winner_entry          10452 non-null object\n",
      "winner_name           81281 non-null object\n",
      "winner_hand           81275 non-null object\n",
      "winner_ht             78590 non-null float64\n",
      "winner_ioc            81281 non-null object\n",
      "winner_age            81268 non-null float64\n",
      "winner_rank           79430 non-null float64\n",
      "winner_rank_points    79430 non-null float64\n",
      "loser_id              81281 non-null int64\n",
      "loser_seed            19455 non-null float64\n",
      "loser_entry           17509 non-null object\n",
      "loser_name            81281 non-null object\n",
      "loser_hand            81253 non-null object\n",
      "loser_ht              76733 non-null float64\n",
      "loser_ioc             81281 non-null object\n",
      "loser_age             81220 non-null float64\n",
      "loser_rank            79206 non-null float64\n",
      "loser_rank_points     79206 non-null float64\n",
      "score                 81280 non-null object\n",
      "best_of               81281 non-null int64\n",
      "round                 81281 non-null object\n",
      "minutes               78640 non-null float64\n",
      "w_ace                 81281 non-null float64\n",
      "w_df                  81281 non-null float64\n",
      "w_svpt                81281 non-null float64\n",
      "w_1stIn               81281 non-null float64\n",
      "w_1stWon              81281 non-null float64\n",
      "w_2ndWon              81281 non-null float64\n",
      "w_SvGms               81281 non-null float64\n",
      "w_bpSaved             81281 non-null float64\n",
      "w_bpFaced             81281 non-null float64\n",
      "l_ace                 81281 non-null float64\n",
      "l_df                  81281 non-null float64\n",
      "l_svpt                81281 non-null float64\n",
      "l_1stIn               81281 non-null float64\n",
      "l_1stWon              81281 non-null float64\n",
      "l_2ndWon              81281 non-null float64\n",
      "l_SvGms               81281 non-null float64\n",
      "l_bpSaved             81281 non-null float64\n",
      "l_bpFaced             81281 non-null float64\n",
      "dtypes: float64(29), int64(6), object(14)\n",
      "memory usage: 31.0+ MB\n"
     ]
    }
   ],
   "source": [
    "df_stats = matches_SackmannAll[~pd.isnull(matches_SackmannAll['w_ace'])]\n",
    "df_stats.info()"
   ]
  },
  {
   "cell_type": "code",
   "execution_count": 8,
   "metadata": {},
   "outputs": [],
   "source": [
    "df_lim = df_stats[['surface','winner_rank','winner_ht','winner_age','loser_rank','loser_ht','loser_age']] "
   ]
  },
  {
   "cell_type": "code",
   "execution_count": 10,
   "metadata": {},
   "outputs": [],
   "source": [
    "df_win = df_stats[['tourney_id', 'match_num','tourney_name', 'surface', 'draw_size', 'tourney_level',\n",
    "       'tourney_date',  'score', 'best_of',\n",
    "       'round', 'minutes','winner_id', 'winner_seed', 'winner_entry',\n",
    "       'winner_name', 'winner_hand', 'winner_ht', 'winner_ioc', 'winner_age',\n",
    "       'winner_rank', 'winner_rank_points','w_ace', 'w_df', 'w_svpt', 'w_1stIn', 'w_1stWon', 'w_2ndWon', 'w_SvGms',\n",
    "       'w_bpSaved', 'w_bpFaced']]\n",
    "df_loss = df_stats[['tourney_id','match_num','tourney_name', 'surface', 'draw_size', 'tourney_level',\n",
    "       'tourney_date',  'score', 'best_of',\n",
    "       'round', 'minutes','loser_id', 'loser_seed',\n",
    "       'loser_entry', 'loser_name', 'loser_hand', 'loser_ht', 'loser_ioc',\n",
    "       'loser_age', 'loser_rank', 'loser_rank_points','l_ace', 'l_df',\n",
    "       'l_svpt', 'l_1stIn', 'l_1stWon', 'l_2ndWon', 'l_SvGms', 'l_bpSaved',\n",
    "       'l_bpFaced']]"
   ]
  },
  {
   "cell_type": "markdown",
   "metadata": {},
   "source": [
    "### Make 'win' and 'loss' columns compatible"
   ]
  },
  {
   "cell_type": "markdown",
   "metadata": {},
   "source": [
    "#### Situation before"
   ]
  },
  {
   "cell_type": "code",
   "execution_count": 11,
   "metadata": {},
   "outputs": [],
   "source": [
    "df_win_loss = pd.concat([df_win,df_loss],axis=1)\n",
    "# each row has basic info repeated\n",
    "# each row has two 'target'"
   ]
  },
  {
   "cell_type": "markdown",
   "metadata": {},
   "source": [
    "#### Making compatible"
   ]
  },
  {
   "cell_type": "code",
   "execution_count": 12,
   "metadata": {},
   "outputs": [
    {
     "name": "stdout",
     "output_type": "stream",
     "text": [
      "Index(['tourney_id', 'match_num', 'tourney_name', 'surface', 'drasize',\n",
      "       'tourney_level', 'tourney_date', 'score', 'best_of', 'round', 'minutes',\n",
      "       'id', 'seed', 'entry', 'name', 'hand', 'ht', 'ioc', 'age', 'rank',\n",
      "       'rank_points', 'ace', 'df', 'svpt', '1stIn', '1stWon', '2ndWon',\n",
      "       'SvGms', 'bpSaved', 'bpFaced', 'target'],\n",
      "      dtype='object')\n",
      "\n",
      "Index(['tourney_id', 'match_num', 'tourney_name', 'surface', 'drasize',\n",
      "       'tourney_level', 'tourney_date', 'score', 'best_of', 'round', 'minutes',\n",
      "       'id', 'seed', 'entry', 'name', 'hand', 'ht', 'ioc', 'age', 'rank',\n",
      "       'rank_points', 'ace', 'df', 'svpt', '1stIn', '1stWon', '2ndWon',\n",
      "       'SvGms', 'bpSaved', 'bpFaced', 'target'],\n",
      "      dtype='object')\n"
     ]
    },
    {
     "name": "stderr",
     "output_type": "stream",
     "text": [
      "/home/ubuntu/anaconda3/lib/python3.6/site-packages/ipykernel_launcher.py:6: SettingWithCopyWarning: \n",
      "A value is trying to be set on a copy of a slice from a DataFrame.\n",
      "Try using .loc[row_indexer,col_indexer] = value instead\n",
      "\n",
      "See the caveats in the documentation: http://pandas.pydata.org/pandas-docs/stable/indexing.html#indexing-view-versus-copy\n",
      "  \n",
      "/home/ubuntu/anaconda3/lib/python3.6/site-packages/ipykernel_launcher.py:7: SettingWithCopyWarning: \n",
      "A value is trying to be set on a copy of a slice from a DataFrame.\n",
      "Try using .loc[row_indexer,col_indexer] = value instead\n",
      "\n",
      "See the caveats in the documentation: http://pandas.pydata.org/pandas-docs/stable/indexing.html#indexing-view-versus-copy\n",
      "  import sys\n"
     ]
    }
   ],
   "source": [
    "df_win.columns = [s.replace(\"winner_\", \"\") for s in df_win.columns]\n",
    "df_win.columns = [s.replace(\"w_\", \"\") for s in df_win.columns]\n",
    "df_loss.columns = [s.replace(\"loser_\", \"\") for s in df_win.columns]\n",
    "df_loss.columns = [s.replace(\"l_\", \"\") for s in df_win.columns]\n",
    "\n",
    "df_win['target']=1\n",
    "df_loss['target']=0\n"
   ]
  },
  {
   "cell_type": "code",
   "execution_count": 13,
   "metadata": {},
   "outputs": [
    {
     "data": {
      "text/html": [
       "<div>\n",
       "<style scoped>\n",
       "    .dataframe tbody tr th:only-of-type {\n",
       "        vertical-align: middle;\n",
       "    }\n",
       "\n",
       "    .dataframe tbody tr th {\n",
       "        vertical-align: top;\n",
       "    }\n",
       "\n",
       "    .dataframe thead th {\n",
       "        text-align: right;\n",
       "    }\n",
       "</style>\n",
       "<table border=\"1\" class=\"dataframe\">\n",
       "  <thead>\n",
       "    <tr style=\"text-align: right;\">\n",
       "      <th></th>\n",
       "      <th>tourney_id</th>\n",
       "      <th>match_num</th>\n",
       "      <th>tourney_name</th>\n",
       "      <th>surface</th>\n",
       "      <th>drasize</th>\n",
       "      <th>tourney_level</th>\n",
       "      <th>tourney_date</th>\n",
       "      <th>score</th>\n",
       "      <th>best_of</th>\n",
       "      <th>round</th>\n",
       "      <th>minutes</th>\n",
       "      <th>id</th>\n",
       "      <th>seed</th>\n",
       "      <th>entry</th>\n",
       "      <th>name</th>\n",
       "      <th>hand</th>\n",
       "      <th>ht</th>\n",
       "      <th>ioc</th>\n",
       "      <th>age</th>\n",
       "      <th>rank</th>\n",
       "      <th>rank_points</th>\n",
       "      <th>ace</th>\n",
       "      <th>df</th>\n",
       "      <th>svpt</th>\n",
       "      <th>1stIn</th>\n",
       "      <th>1stWon</th>\n",
       "      <th>2ndWon</th>\n",
       "      <th>SvGms</th>\n",
       "      <th>bpSaved</th>\n",
       "      <th>bpFaced</th>\n",
       "      <th>target</th>\n",
       "    </tr>\n",
       "  </thead>\n",
       "  <tbody>\n",
       "    <tr>\n",
       "      <th>15</th>\n",
       "      <td>1992-237</td>\n",
       "      <td>1</td>\n",
       "      <td>Guaruja</td>\n",
       "      <td>Hard</td>\n",
       "      <td>32</td>\n",
       "      <td>A</td>\n",
       "      <td>19921026</td>\n",
       "      <td>6-4 6-4</td>\n",
       "      <td>3</td>\n",
       "      <td>R32</td>\n",
       "      <td>97.0</td>\n",
       "      <td>101063</td>\n",
       "      <td>1.0</td>\n",
       "      <td>NaN</td>\n",
       "      <td>Jordi Arrese</td>\n",
       "      <td>R</td>\n",
       "      <td>175.0</td>\n",
       "      <td>ESP</td>\n",
       "      <td>28.158795</td>\n",
       "      <td>29.0</td>\n",
       "      <td>946.0</td>\n",
       "      <td>4.0</td>\n",
       "      <td>0.0</td>\n",
       "      <td>67.0</td>\n",
       "      <td>44.0</td>\n",
       "      <td>30.0</td>\n",
       "      <td>11.0</td>\n",
       "      <td>10.0</td>\n",
       "      <td>5.0</td>\n",
       "      <td>7.0</td>\n",
       "      <td>1</td>\n",
       "    </tr>\n",
       "    <tr>\n",
       "      <th>16</th>\n",
       "      <td>1992-237</td>\n",
       "      <td>2</td>\n",
       "      <td>Guaruja</td>\n",
       "      <td>Hard</td>\n",
       "      <td>32</td>\n",
       "      <td>A</td>\n",
       "      <td>19921026</td>\n",
       "      <td>6-2 6-4</td>\n",
       "      <td>3</td>\n",
       "      <td>R32</td>\n",
       "      <td>65.0</td>\n",
       "      <td>100652</td>\n",
       "      <td>NaN</td>\n",
       "      <td>WC</td>\n",
       "      <td>Cassio Motta</td>\n",
       "      <td>R</td>\n",
       "      <td>180.0</td>\n",
       "      <td>BRA</td>\n",
       "      <td>32.676249</td>\n",
       "      <td>201.0</td>\n",
       "      <td>171.0</td>\n",
       "      <td>7.0</td>\n",
       "      <td>4.0</td>\n",
       "      <td>52.0</td>\n",
       "      <td>35.0</td>\n",
       "      <td>29.0</td>\n",
       "      <td>9.0</td>\n",
       "      <td>9.0</td>\n",
       "      <td>1.0</td>\n",
       "      <td>1.0</td>\n",
       "      <td>1</td>\n",
       "    </tr>\n",
       "    <tr>\n",
       "      <th>17</th>\n",
       "      <td>1992-237</td>\n",
       "      <td>3</td>\n",
       "      <td>Guaruja</td>\n",
       "      <td>Hard</td>\n",
       "      <td>32</td>\n",
       "      <td>A</td>\n",
       "      <td>19921026</td>\n",
       "      <td>6-1 6-4</td>\n",
       "      <td>3</td>\n",
       "      <td>R32</td>\n",
       "      <td>82.0</td>\n",
       "      <td>101594</td>\n",
       "      <td>NaN</td>\n",
       "      <td>Q</td>\n",
       "      <td>Carsten Arriens</td>\n",
       "      <td>R</td>\n",
       "      <td>193.0</td>\n",
       "      <td>GER</td>\n",
       "      <td>23.542779</td>\n",
       "      <td>210.0</td>\n",
       "      <td>160.0</td>\n",
       "      <td>4.0</td>\n",
       "      <td>0.0</td>\n",
       "      <td>58.0</td>\n",
       "      <td>39.0</td>\n",
       "      <td>32.0</td>\n",
       "      <td>10.0</td>\n",
       "      <td>9.0</td>\n",
       "      <td>3.0</td>\n",
       "      <td>3.0</td>\n",
       "      <td>1</td>\n",
       "    </tr>\n",
       "    <tr>\n",
       "      <th>18</th>\n",
       "      <td>1992-237</td>\n",
       "      <td>4</td>\n",
       "      <td>Guaruja</td>\n",
       "      <td>Hard</td>\n",
       "      <td>32</td>\n",
       "      <td>A</td>\n",
       "      <td>19921026</td>\n",
       "      <td>7-6(4) 6-1</td>\n",
       "      <td>3</td>\n",
       "      <td>R32</td>\n",
       "      <td>95.0</td>\n",
       "      <td>101761</td>\n",
       "      <td>7.0</td>\n",
       "      <td>NaN</td>\n",
       "      <td>Jaime Oncins</td>\n",
       "      <td>R</td>\n",
       "      <td>196.0</td>\n",
       "      <td>BRA</td>\n",
       "      <td>22.362765</td>\n",
       "      <td>52.0</td>\n",
       "      <td>650.0</td>\n",
       "      <td>5.0</td>\n",
       "      <td>7.0</td>\n",
       "      <td>73.0</td>\n",
       "      <td>44.0</td>\n",
       "      <td>35.0</td>\n",
       "      <td>11.0</td>\n",
       "      <td>10.0</td>\n",
       "      <td>3.0</td>\n",
       "      <td>5.0</td>\n",
       "      <td>1</td>\n",
       "    </tr>\n",
       "    <tr>\n",
       "      <th>19</th>\n",
       "      <td>1992-237</td>\n",
       "      <td>5</td>\n",
       "      <td>Guaruja</td>\n",
       "      <td>Hard</td>\n",
       "      <td>32</td>\n",
       "      <td>A</td>\n",
       "      <td>19921026</td>\n",
       "      <td>6-3 3-6 6-4</td>\n",
       "      <td>3</td>\n",
       "      <td>R32</td>\n",
       "      <td>123.0</td>\n",
       "      <td>101174</td>\n",
       "      <td>NaN</td>\n",
       "      <td>WC</td>\n",
       "      <td>Fernando Roese</td>\n",
       "      <td>R</td>\n",
       "      <td>190.0</td>\n",
       "      <td>BRA</td>\n",
       "      <td>27.173169</td>\n",
       "      <td>187.0</td>\n",
       "      <td>185.0</td>\n",
       "      <td>4.0</td>\n",
       "      <td>4.0</td>\n",
       "      <td>79.0</td>\n",
       "      <td>47.0</td>\n",
       "      <td>33.0</td>\n",
       "      <td>11.0</td>\n",
       "      <td>14.0</td>\n",
       "      <td>4.0</td>\n",
       "      <td>10.0</td>\n",
       "      <td>1</td>\n",
       "    </tr>\n",
       "  </tbody>\n",
       "</table>\n",
       "</div>"
      ],
      "text/plain": [
       "   tourney_id  match_num tourney_name surface  drasize tourney_level  \\\n",
       "15   1992-237          1      Guaruja    Hard       32             A   \n",
       "16   1992-237          2      Guaruja    Hard       32             A   \n",
       "17   1992-237          3      Guaruja    Hard       32             A   \n",
       "18   1992-237          4      Guaruja    Hard       32             A   \n",
       "19   1992-237          5      Guaruja    Hard       32             A   \n",
       "\n",
       "    tourney_date        score  best_of round  minutes      id  seed entry  \\\n",
       "15      19921026      6-4 6-4        3   R32     97.0  101063   1.0   NaN   \n",
       "16      19921026      6-2 6-4        3   R32     65.0  100652   NaN    WC   \n",
       "17      19921026      6-1 6-4        3   R32     82.0  101594   NaN     Q   \n",
       "18      19921026   7-6(4) 6-1        3   R32     95.0  101761   7.0   NaN   \n",
       "19      19921026  6-3 3-6 6-4        3   R32    123.0  101174   NaN    WC   \n",
       "\n",
       "               name hand     ht  ioc        age   rank  rank_points  ace   df  \\\n",
       "15     Jordi Arrese    R  175.0  ESP  28.158795   29.0        946.0  4.0  0.0   \n",
       "16     Cassio Motta    R  180.0  BRA  32.676249  201.0        171.0  7.0  4.0   \n",
       "17  Carsten Arriens    R  193.0  GER  23.542779  210.0        160.0  4.0  0.0   \n",
       "18     Jaime Oncins    R  196.0  BRA  22.362765   52.0        650.0  5.0  7.0   \n",
       "19   Fernando Roese    R  190.0  BRA  27.173169  187.0        185.0  4.0  4.0   \n",
       "\n",
       "    svpt  1stIn  1stWon  2ndWon  SvGms  bpSaved  bpFaced  target  \n",
       "15  67.0   44.0    30.0    11.0   10.0      5.0      7.0       1  \n",
       "16  52.0   35.0    29.0     9.0    9.0      1.0      1.0       1  \n",
       "17  58.0   39.0    32.0    10.0    9.0      3.0      3.0       1  \n",
       "18  73.0   44.0    35.0    11.0   10.0      3.0      5.0       1  \n",
       "19  79.0   47.0    33.0    11.0   14.0      4.0     10.0       1  "
      ]
     },
     "execution_count": 13,
     "metadata": {},
     "output_type": "execute_result"
    }
   ],
   "source": [
    "df_win_loss = pd.concat([df_win,df_loss])\n"
   ]
  },
  {
   "cell_type": "code",
   "execution_count": 14,
   "metadata": {
    "collapsed": true
   },
   "outputs": [
    {
     "name": "stdout",
     "output_type": "stream",
     "text": [
      "Variable              Type         Data/Info\n",
      "--------------------------------------------\n",
      "Counter               type         <class 'collections.Counter'>\n",
      "KMeans                type         <class 'sklearn.cluster.k_means_.KMeans'>\n",
      "df_lim                DataFrame         surface  winner_rank<...>n[81281 rows x 7 columns]\n",
      "df_loss               DataFrame         tourney_id  match_nu<...>[81281 rows x 31 columns]\n",
      "df_stats              DataFrame         tourney_id  tourney_<...>[81281 rows x 49 columns]\n",
      "df_win                DataFrame         tourney_id  match_nu<...>[81281 rows x 31 columns]\n",
      "df_win_loss           DataFrame         tourney_id  match_nu<...>162562 rows x 31 columns]\n",
      "glob                  module       <module 'glob' from '/hom<...>3/lib/python3.6/glob.py'>\n",
      "matches1900s          DataFrame         tourney_id          <...>110457 rows x 49 columns]\n",
      "matches2000s          DataFrame         tourney_id          <...>[57422 rows x 49 columns]\n",
      "matches_SackmannAll   DataFrame         tourney_id          <...>167879 rows x 49 columns]\n",
      "np                    module       <module 'numpy' from '/ho<...>kages/numpy/__init__.py'>\n",
      "pd                    module       <module 'pandas' from '/h<...>ages/pandas/__init__.py'>\n",
      "pdist                 function     <function pdist at 0x7fb4badb5ea0>\n",
      "plt                   module       <module 'matplotlib.pyplo<...>es/matplotlib/pyplot.py'>\n",
      "re                    module       <module 're' from '/home/<...>da3/lib/python3.6/re.py'>\n",
      "read1900sMatches      function     <function read1900sMatches at 0x7fb4b3958ea0>\n",
      "read2000sMatches      function     <function read2000sMatches at 0x7fb4c096a2f0>\n",
      "squareform            function     <function squareform at 0x7fb4badc82f0>\n"
     ]
    }
   ],
   "source": [
    "%whos"
   ]
  },
  {
   "cell_type": "code",
   "execution_count": 15,
   "metadata": {},
   "outputs": [],
   "source": [
    "del(matches1900s,matches2000s)"
   ]
  },
  {
   "cell_type": "markdown",
   "metadata": {},
   "source": [
    "#### Fill missing values"
   ]
  },
  {
   "cell_type": "code",
   "execution_count": 17,
   "metadata": {},
   "outputs": [],
   "source": [
    "## fill method of entry for most players with 'standard'; mostly missing values\n",
    "df_win_loss['entry'] = df_win_loss['entry'].fillna('standard')\n",
    "\n",
    "## better way might be max(33,rank) ## 33 is the minumum non-seeded value\n",
    "##high positive value because negative associates with better rank\n",
    "df_win_loss['seed'] = df_win_loss['seed'].fillna(9999)\n",
    "df_win_loss['seed'] = df_win_loss['seed'].astype(int)\n",
    "\n",
    "#rank, and rank_points have ~4000 missign out of 162000\n",
    "df_win_loss[['rank','rank_points']] = df_win_loss.groupby('name')[['rank','rank_points']]\\\n",
    "                                        .transform(lambda x: x.fillna(x.mean()))\n",
    "#rank, and rank_points have some more missing values: set to maximum ranking and minimum rank points\n",
    "df_win_loss['rank'] = df_win_loss['rank']\\\n",
    "                                        .transform(lambda x: x.fillna(x.max()))\n",
    "df_win_loss['rank_points'] = df_win_loss['rank_points']\\\n",
    "                                        .transform(lambda x: x.fillna(x.min()))\n"
   ]
  },
  {
   "cell_type": "markdown",
   "metadata": {},
   "source": [
    "#### more filling of missing values"
   ]
  },
  {
   "cell_type": "code",
   "execution_count": 21,
   "metadata": {},
   "outputs": [],
   "source": [
    "### for this 1st epicycle: don't want score,2 scores missing,, , "
   ]
  },
  {
   "cell_type": "code",
   "execution_count": 22,
   "metadata": {},
   "outputs": [],
   "source": [
    "## set 'hand' to U ('unknown') ~35 missing 'hand'\n",
    "df_win_loss['hand'] = df_win_loss['hand'].fillna('U')"
   ]
  },
  {
   "cell_type": "code",
   "execution_count": 23,
   "metadata": {},
   "outputs": [
    {
     "data": {
      "text/plain": [
       "R    138155\n",
       "L     23661\n",
       "U       746\n",
       "Name: hand, dtype: int64"
      ]
     },
     "execution_count": 23,
     "metadata": {},
     "output_type": "execute_result"
    }
   ],
   "source": [
    "df_win_loss['hand'].value_counts() #R    138155 L     23661 U       746"
   ]
  },
  {
   "cell_type": "code",
   "execution_count": 24,
   "metadata": {},
   "outputs": [],
   "source": [
    "# set missing height, age  to average for all people ~7000 missing heights, ~100 missing age\n",
    "df_win_loss[['age','ht']] = df_win_loss[['age','ht']]\\\n",
    "                                        .transform(lambda x: x.fillna(x.mean()))"
   ]
  },
  {
   "cell_type": "code",
   "execution_count": 25,
   "metadata": {},
   "outputs": [],
   "source": [
    "## set missing minutes to average age of all ~5000 missing minutes\n",
    "df_win_loss['minutes'] = df_win_loss['minutes']\\\n",
    "                                        .transform(lambda x: x.fillna(x.mean()))"
   ]
  },
  {
   "cell_type": "code",
   "execution_count": 26,
   "metadata": {},
   "outputs": [
    {
     "data": {
      "text/plain": [
       "0"
      ]
     },
     "execution_count": 26,
     "metadata": {},
     "output_type": "execute_result"
    }
   ],
   "source": [
    "(df_win_loss['age']).value_counts() #87 (most) occurrences of 23.7919\n",
    "len(df_win_loss.loc[pd.isnull(df_win_loss['age']),'age']) # 0 good\n",
    "(df_win_loss['ht']).value_counts() #25899 (most) occurrences of 185 (cm)\n",
    "len(df_win_loss.loc[pd.isnull(df_win_loss['ht']),'ht']) # 0 good"
   ]
  },
  {
   "cell_type": "markdown",
   "metadata": {},
   "source": [
    "## Dummying categorical variables"
   ]
  },
  {
   "cell_type": "code",
   "execution_count": 28,
   "metadata": {},
   "outputs": [],
   "source": [
    "df_win_loss = pd.concat([df_win_loss,\\\n",
    "                         pd.get_dummies(df_win_loss['surface'])],axis=1)"
   ]
  },
  {
   "cell_type": "markdown",
   "metadata": {},
   "source": [
    "* Hard      80028 \n",
    "* Clay      54282 \n",
    "* Grass     16366 \n",
    "* Carpet    11736 \n",
    "* None        150 \n",
    "\n",
    "Name: surface, dtype: int64"
   ]
  },
  {
   "cell_type": "code",
   "execution_count": 29,
   "metadata": {},
   "outputs": [],
   "source": [
    "df_wl_surf = df_win_loss.drop('surface', axis=1,inplace=True)\n",
    "        "
   ]
  },
  {
   "cell_type": "code",
   "execution_count": 30,
   "metadata": {},
   "outputs": [],
   "source": [
    "df_win_loss = pd.concat([df_win_loss,\\\n",
    "                         pd.get_dummies(df_win_loss['hand'])],axis=1)"
   ]
  },
  {
   "cell_type": "code",
   "execution_count": 31,
   "metadata": {},
   "outputs": [],
   "source": [
    "df_win_loss.drop('hand', axis=1,inplace=True)"
   ]
  },
  {
   "cell_type": "code",
   "execution_count": 33,
   "metadata": {},
   "outputs": [],
   "source": [
    "df_win_loss = pd.concat([df_win_loss,\\\n",
    "                         pd.get_dummies(df_win_loss['tourney_level'])],axis=1)"
   ]
  },
  {
   "cell_type": "code",
   "execution_count": 34,
   "metadata": {},
   "outputs": [],
   "source": [
    "df_win_loss.drop('tourney_level', axis=1,inplace=True)"
   ]
  },
  {
   "cell_type": "code",
   "execution_count": 35,
   "metadata": {
    "scrolled": true
   },
   "outputs": [
    {
     "data": {
      "text/plain": [
       "Index(['tourney_id', 'match_num', 'tourney_name', 'drasize', 'tourney_date',\n",
       "       'score', 'best_of', 'round', 'minutes', 'id', 'seed', 'entry', 'name',\n",
       "       'ht', 'ioc', 'age', 'rank', 'rank_points', 'ace', 'df', 'svpt', '1stIn',\n",
       "       '1stWon', '2ndWon', 'SvGms', 'bpSaved', 'bpFaced', 'target', 'Carpet',\n",
       "       'Clay', 'Grass', 'Hard', 'None', 'L', 'R', 'U', 'A', 'C', 'D', 'F', 'G',\n",
       "       'M'],\n",
       "      dtype='object')"
      ]
     },
     "execution_count": 35,
     "metadata": {},
     "output_type": "execute_result"
    }
   ],
   "source": [
    "df_win_loss.columns"
   ]
  },
  {
   "cell_type": "code",
   "execution_count": 40,
   "metadata": {},
   "outputs": [
    {
     "name": "stdout",
     "output_type": "stream",
     "text": [
      "<class 'pandas.core.frame.DataFrame'>\n",
      "Int64Index: 162562 entries, 15 to 2823\n",
      "Data columns (total 42 columns):\n",
      "tourney_id      162562 non-null object\n",
      "match_num       162562 non-null int64\n",
      "tourney_name    162562 non-null object\n",
      "drasize         162562 non-null int64\n",
      "tourney_date    162562 non-null int64\n",
      "score           162560 non-null object\n",
      "best_of         162562 non-null int64\n",
      "round           162562 non-null object\n",
      "minutes         162562 non-null float64\n",
      "id              162562 non-null int64\n",
      "seed            162562 non-null int64\n",
      "entry           162562 non-null object\n",
      "name            162562 non-null object\n",
      "ht              162562 non-null float64\n",
      "ioc             162562 non-null object\n",
      "age             162562 non-null float64\n",
      "rank            162562 non-null float64\n",
      "rank_points     162562 non-null float64\n",
      "ace             162562 non-null float64\n",
      "df              162562 non-null float64\n",
      "svpt            162562 non-null float64\n",
      "1stIn           162562 non-null float64\n",
      "1stWon          162562 non-null float64\n",
      "2ndWon          162562 non-null float64\n",
      "SvGms           162562 non-null float64\n",
      "bpSaved         162562 non-null float64\n",
      "bpFaced         162562 non-null float64\n",
      "target          162562 non-null int64\n",
      "Carpet          162562 non-null uint8\n",
      "Clay            162562 non-null uint8\n",
      "Grass           162562 non-null uint8\n",
      "Hard            162562 non-null uint8\n",
      "None            162562 non-null uint8\n",
      "L               162562 non-null uint8\n",
      "R               162562 non-null uint8\n",
      "U               162562 non-null uint8\n",
      "A               162562 non-null uint8\n",
      "C               162562 non-null uint8\n",
      "D               162562 non-null uint8\n",
      "F               162562 non-null uint8\n",
      "G               162562 non-null uint8\n",
      "M               162562 non-null uint8\n",
      "dtypes: float64(14), int64(7), object(7), uint8(14)\n",
      "memory usage: 38.1+ MB\n"
     ]
    }
   ],
   "source": [
    "df_win_loss.info()"
   ]
  },
  {
   "cell_type": "code",
   "execution_count": 39,
   "metadata": {},
   "outputs": [],
   "source": [
    "df_pred_cols=df_win_loss[[ \n",
    "        'minutes', \n",
    "       'ht', 'age', 'rank_points', 'ace', 'df',\n",
    "       'svpt', '1stIn', '1stWon', '2ndWon', 'SvGms', 'bpSaved', 'bpFaced',\n",
    "       'Carpet', 'Clay', 'Grass', 'Hard', 'None', 'L', 'R', 'U', 'A',\n",
    "       'C', 'D', 'F', 'G', 'M']]"
   ]
  },
  {
   "cell_type": "markdown",
   "metadata": {},
   "source": []
  },
  {
   "cell_type": "code",
   "execution_count": null,
   "metadata": {},
   "outputs": [],
   "source": [
    "lgstc_reg_model=LogisticRegression()"
   ]
  },
  {
   "cell_type": "code",
   "execution_count": null,
   "metadata": {},
   "outputs": [],
   "source": []
  },
  {
   "cell_type": "code",
   "execution_count": null,
   "metadata": {},
   "outputs": [],
   "source": []
  },
  {
   "cell_type": "code",
   "execution_count": null,
   "metadata": {},
   "outputs": [],
   "source": []
  }
 ],
 "metadata": {
  "kernelspec": {
   "display_name": "Python 3",
   "language": "python",
   "name": "python3"
  },
  "language_info": {
   "codemirror_mode": {
    "name": "ipython",
    "version": 3
   },
   "file_extension": ".py",
   "mimetype": "text/x-python",
   "name": "python",
   "nbconvert_exporter": "python",
   "pygments_lexer": "ipython3",
   "version": "3.6.5"
  }
 },
 "nbformat": 4,
 "nbformat_minor": 2
}
