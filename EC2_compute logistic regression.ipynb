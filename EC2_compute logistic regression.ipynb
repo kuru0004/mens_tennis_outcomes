{
 "cells": [
  {
   "cell_type": "code",
   "execution_count": 1,
   "metadata": {},
   "outputs": [],
   "source": [
    "import numpy as np\n",
    "import pandas as pd\n",
    "import matplotlib.pyplot as plt \n",
    "#needed for Jupyter Notebook, if want plots to show inline\n",
    "%matplotlib inline \n",
    "pd.options.display.max_columns = None\n",
    "pd.options.display.max_rows = 100"
   ]
  },
  {
   "cell_type": "code",
   "execution_count": 2,
   "metadata": {},
   "outputs": [],
   "source": [
    "import glob\n",
    "import re\n",
    "#plt.style.available\n",
    "plt.style.use('seaborn-colorblind')"
   ]
  },
  {
   "cell_type": "code",
   "execution_count": 3,
   "metadata": {},
   "outputs": [],
   "source": [
    "from collections import Counter\n",
    "from scipy.spatial.distance import pdist, squareform"
   ]
  },
  {
   "cell_type": "code",
   "execution_count": 4,
   "metadata": {},
   "outputs": [],
   "source": [
    "from sklearn.linear_model import LogisticRegression"
   ]
  },
  {
   "cell_type": "code",
   "execution_count": 5,
   "metadata": {},
   "outputs": [],
   "source": [
    "# %whos\n"
   ]
  },
  {
   "cell_type": "markdown",
   "metadata": {},
   "source": [
    "## Loading data"
   ]
  },
  {
   "cell_type": "code",
   "execution_count": 6,
   "metadata": {},
   "outputs": [],
   "source": [
    "def read2000sMatches(dirname):\n",
    "    allFiles = glob.glob(dirname + \"/atp_matches_2\" + \"*.csv\")\n",
    "    matches = pd.DataFrame()\n",
    "    list_ = list()\n",
    "    for filen in allFiles:\n",
    "        df = pd.read_csv(filen,\n",
    "                         index_col=None,\n",
    "                         header=0,\n",
    "                         parse_dates=[0])\n",
    "                         #date_parser=lambda t:parse(t))\n",
    "        list_.append(df)\n",
    "    matches = pd.concat(list_)\n",
    "    return matches\n",
    "\n",
    "def read1900sMatches(dirname):\n",
    "    allFiles = glob.glob(dirname + \"/atp_matches_1\" + \"*.csv\")\n",
    "    matches = pd.DataFrame()\n",
    "    list_ = list()\n",
    "    for filen in allFiles:\n",
    "        df = pd.read_csv(filen,\n",
    "                         index_col=None,\n",
    "                         header=0,\n",
    "                         parse_dates=[0])\n",
    "                         #date_parser=lambda t:parse(t))\n",
    "        list_.append(df)\n",
    "    matches = pd.concat(list_)\n",
    "    return matches"
   ]
  },
  {
   "cell_type": "code",
   "execution_count": 7,
   "metadata": {},
   "outputs": [],
   "source": [
    "matches2000s=read2000sMatches('tennis/')\n",
    "matches1900s=read1900sMatches('tennis/')\n",
    "matches_SackmannAll = pd.concat([matches1900s,matches2000s])"
   ]
  },
  {
   "cell_type": "markdown",
   "metadata": {},
   "source": [
    "## Take only data with detailed stats"
   ]
  },
  {
   "cell_type": "code",
   "execution_count": 8,
   "metadata": {},
   "outputs": [],
   "source": [
    "df_stats = matches_SackmannAll[~pd.isnull(matches_SackmannAll['w_ace'])]\n"
   ]
  },
  {
   "cell_type": "code",
   "execution_count": 9,
   "metadata": {},
   "outputs": [],
   "source": [
    "df_win = df_stats[['tourney_id', 'match_num','tourney_name', 'surface', 'draw_size', 'tourney_level',\n",
    "       'tourney_date',  'score', 'best_of',\n",
    "       'round', 'minutes','winner_id', 'winner_seed', 'winner_entry',\n",
    "       'winner_name', 'winner_hand', 'winner_ht', 'winner_ioc', 'winner_age',\n",
    "       'winner_rank', 'winner_rank_points','w_ace', 'w_df', 'w_svpt', 'w_1stIn', 'w_1stWon', 'w_2ndWon', 'w_SvGms',\n",
    "       'w_bpSaved', 'w_bpFaced']]\n",
    "df_loss = df_stats[['tourney_id','match_num','tourney_name', 'surface', 'draw_size', 'tourney_level',\n",
    "       'tourney_date',  'score', 'best_of',\n",
    "       'round', 'minutes','loser_id', 'loser_seed',\n",
    "       'loser_entry', 'loser_name', 'loser_hand', 'loser_ht', 'loser_ioc',\n",
    "       'loser_age', 'loser_rank', 'loser_rank_points','l_ace', 'l_df',\n",
    "       'l_svpt', 'l_1stIn', 'l_1stWon', 'l_2ndWon', 'l_SvGms', 'l_bpSaved',\n",
    "       'l_bpFaced']]"
   ]
  },
  {
   "cell_type": "markdown",
   "metadata": {},
   "source": [
    "### Make 'win' and 'loss' columns compatible"
   ]
  },
  {
   "cell_type": "markdown",
   "metadata": {},
   "source": [
    "#### Situation before"
   ]
  },
  {
   "cell_type": "code",
   "execution_count": 10,
   "metadata": {},
   "outputs": [],
   "source": [
    "df_win_loss = pd.concat([df_win,df_loss],axis=1)\n",
    "# each row has basic info repeated\n",
    "# each row has two 'target'"
   ]
  },
  {
   "cell_type": "markdown",
   "metadata": {},
   "source": [
    "#### Making compatible"
   ]
  },
  {
   "cell_type": "code",
   "execution_count": 11,
   "metadata": {},
   "outputs": [
    {
     "name": "stderr",
     "output_type": "stream",
     "text": [
      "/home/ubuntu/anaconda3/lib/python3.6/site-packages/ipykernel_launcher.py:6: SettingWithCopyWarning: \n",
      "A value is trying to be set on a copy of a slice from a DataFrame.\n",
      "Try using .loc[row_indexer,col_indexer] = value instead\n",
      "\n",
      "See the caveats in the documentation: http://pandas.pydata.org/pandas-docs/stable/indexing.html#indexing-view-versus-copy\n",
      "  \n",
      "/home/ubuntu/anaconda3/lib/python3.6/site-packages/ipykernel_launcher.py:7: SettingWithCopyWarning: \n",
      "A value is trying to be set on a copy of a slice from a DataFrame.\n",
      "Try using .loc[row_indexer,col_indexer] = value instead\n",
      "\n",
      "See the caveats in the documentation: http://pandas.pydata.org/pandas-docs/stable/indexing.html#indexing-view-versus-copy\n",
      "  import sys\n"
     ]
    }
   ],
   "source": [
    "df_win.columns = [s.replace(\"winner_\", \"\") for s in df_win.columns]\n",
    "df_win.columns = [s.replace(\"w_\", \"\") for s in df_win.columns]\n",
    "df_loss.columns = [s.replace(\"loser_\", \"\") for s in df_win.columns]\n",
    "df_loss.columns = [s.replace(\"l_\", \"\") for s in df_win.columns]\n",
    "\n",
    "df_win['target']=1\n",
    "df_loss['target']=0"
   ]
  },
  {
   "cell_type": "code",
   "execution_count": 12,
   "metadata": {},
   "outputs": [],
   "source": [
    "df_win_loss = pd.concat([df_win,df_loss])\n"
   ]
  },
  {
   "cell_type": "markdown",
   "metadata": {},
   "source": [
    "#### Fill missing values"
   ]
  },
  {
   "cell_type": "code",
   "execution_count": 13,
   "metadata": {},
   "outputs": [],
   "source": [
    "#seed, entry (str),have \n",
    "\n",
    "# 2 scores missing,~5000 missing minutes, ~35 missing 'hand', \n",
    "# ~7000 missing heights, ~100 missing age\n",
    "\n",
    "\n",
    "\n",
    "\n",
    "\n",
    "## fill method of entry for most players with 'standard'; mostly missing values\n",
    "df_win_loss['entry'] = df_win_loss['entry'].fillna('standard')\n",
    "## fill unseed players with -9999; mostly missing values\n",
    "## better way might be max(33,rank) ## 33 is the minumum non-seeded value\n",
    "df_win_loss['seed'] = df_win_loss['seed'].fillna(9999)\n",
    "df_win_loss['seed'] = df_win_loss['seed'].astype(int)\n",
    "\n",
    "#rank, and rank_points have ~4000 missign out of 162000\n",
    "df_win_loss[['rank','rank_points']] = df_win_loss.groupby('name')[['rank','rank_points']]\\\n",
    "                                        .transform(lambda x: x.fillna(x.mean()))\n",
    "#rank, and rank_points have some more missing values: set to maximum ranking and minimum rank points\n",
    "df_win_loss['rank'] = df_win_loss['rank']\\\n",
    "                                        .transform(lambda x: x.fillna(x.max()))\n",
    "df_win_loss['rank_points'] = df_win_loss['rank_points']\\\n",
    "                                        .transform(lambda x: x.fillna(x.min()))\n"
   ]
  },
  {
   "cell_type": "markdown",
   "metadata": {},
   "source": [
    "#### check effectiveness of filling"
   ]
  },
  {
   "cell_type": "code",
   "execution_count": 14,
   "metadata": {},
   "outputs": [
    {
     "data": {
      "text/html": [
       "<div>\n",
       "<style scoped>\n",
       "    .dataframe tbody tr th:only-of-type {\n",
       "        vertical-align: middle;\n",
       "    }\n",
       "\n",
       "    .dataframe tbody tr th {\n",
       "        vertical-align: top;\n",
       "    }\n",
       "\n",
       "    .dataframe thead th {\n",
       "        text-align: right;\n",
       "    }\n",
       "</style>\n",
       "<table border=\"1\" class=\"dataframe\">\n",
       "  <thead>\n",
       "    <tr style=\"text-align: right;\">\n",
       "      <th></th>\n",
       "      <th>tourney_id</th>\n",
       "      <th>match_num</th>\n",
       "      <th>tourney_name</th>\n",
       "      <th>surface</th>\n",
       "      <th>drasize</th>\n",
       "      <th>tourney_level</th>\n",
       "      <th>tourney_date</th>\n",
       "      <th>score</th>\n",
       "      <th>best_of</th>\n",
       "      <th>round</th>\n",
       "      <th>minutes</th>\n",
       "      <th>id</th>\n",
       "      <th>seed</th>\n",
       "      <th>entry</th>\n",
       "      <th>name</th>\n",
       "      <th>hand</th>\n",
       "      <th>ht</th>\n",
       "      <th>ioc</th>\n",
       "      <th>age</th>\n",
       "      <th>rank</th>\n",
       "      <th>rank_points</th>\n",
       "      <th>ace</th>\n",
       "      <th>df</th>\n",
       "      <th>svpt</th>\n",
       "      <th>1stIn</th>\n",
       "      <th>1stWon</th>\n",
       "      <th>2ndWon</th>\n",
       "      <th>SvGms</th>\n",
       "      <th>bpSaved</th>\n",
       "      <th>bpFaced</th>\n",
       "      <th>target</th>\n",
       "    </tr>\n",
       "  </thead>\n",
       "  <tbody>\n",
       "  </tbody>\n",
       "</table>\n",
       "</div>"
      ],
      "text/plain": [
       "Empty DataFrame\n",
       "Columns: [tourney_id, match_num, tourney_name, surface, drasize, tourney_level, tourney_date, score, best_of, round, minutes, id, seed, entry, name, hand, ht, ioc, age, rank, rank_points, ace, df, svpt, 1stIn, 1stWon, 2ndWon, SvGms, bpSaved, bpFaced, target]\n",
       "Index: []"
      ]
     },
     "execution_count": 14,
     "metadata": {},
     "output_type": "execute_result"
    }
   ],
   "source": [
    "#length 0, good\n",
    "len(df_win_loss.loc[pd.isnull(df_win_loss['entry']),'entry'])\n",
    "#length 0, good\n",
    "len(df_win_loss.loc[pd.isnull(df_win_loss['seed']),'seed'])\n",
    "# length 179\n",
    "len(df_win_loss.loc[pd.isnull(df_win_loss['rank']),'rank'])\n",
    "# length 179\n",
    "len(df_win_loss.loc[pd.isnull(df_win_loss['rank_points']),'rank_points'])\n",
    "\n",
    "# missing values for 'rank','rank_points' are either unusual 'entry' (Q,LL,WC) or are Davis cup matches\n",
    "# .. 'tourney_id' contains '-DC-' and 'tourney_name' contains 'Davis Cup'\n",
    "df_win_loss.loc[pd.isnull(df_win_loss['rank']),:].head(100)\n",
    "# df_win_loss.loc[pd.isnull(df_win_loss['rank']),:].tail(100)"
   ]
  },
  {
   "cell_type": "code",
   "execution_count": 15,
   "metadata": {},
   "outputs": [
    {
     "data": {
      "text/plain": [
       "R    138155\n",
       "L     23661\n",
       "U       712\n",
       "Name: hand, dtype: int64"
      ]
     },
     "execution_count": 15,
     "metadata": {},
     "output_type": "execute_result"
    }
   ],
   "source": [
    "df_win_loss['hand'].unique()#'R', 'L', 'U', nan\n",
    "df_win_loss['hand'].value_counts()"
   ]
  },
  {
   "cell_type": "markdown",
   "metadata": {},
   "source": [
    "#### more filling of missing values"
   ]
  },
  {
   "cell_type": "code",
   "execution_count": 16,
   "metadata": {},
   "outputs": [],
   "source": [
    "### for this 1st epicycle: don't want score, \n",
    "# scores missing,, , \n",
    " \n",
    "\n",
    "## set 'hand' to U ('unknown') ~35 missing 'hand'\n",
    "df_win_loss['hand'] = df_win_loss['hand'].fillna('U')"
   ]
  },
  {
   "cell_type": "code",
   "execution_count": null,
   "metadata": {},
   "outputs": [],
   "source": []
  },
  {
   "cell_type": "code",
   "execution_count": 17,
   "metadata": {},
   "outputs": [],
   "source": [
    "# set missing height, age  to average for all people ~7000 missing heights, ~100 missing age\n",
    "df_win_loss[['age','ht']] = df_win_loss[['age','ht']]\\\n",
    "                                        .transform(lambda x: x.fillna(x.mean()))"
   ]
  },
  {
   "cell_type": "code",
   "execution_count": 18,
   "metadata": {},
   "outputs": [],
   "source": [
    "## set missing minutes to average age of all ~5000 missing minutes\n",
    "df_win_loss['minutes'] = df_win_loss['minutes']\\\n",
    "                                        .transform(lambda x: x.fillna(x.mean()))"
   ]
  },
  {
   "cell_type": "code",
   "execution_count": 19,
   "metadata": {},
   "outputs": [
    {
     "data": {
      "text/plain": [
       "0"
      ]
     },
     "execution_count": 19,
     "metadata": {},
     "output_type": "execute_result"
    }
   ],
   "source": [
    "(df_win_loss['age']).value_counts() #87 (most) occurrences of 23.7919\n",
    "len(df_win_loss.loc[pd.isnull(df_win_loss['age']),'age']) # 0 good\n",
    "(df_win_loss['ht']).value_counts() #25899 (most) occureences of 185 (cm)\n",
    "len(df_win_loss.loc[pd.isnull(df_win_loss['ht']),'ht']) # 0 good"
   ]
  },
  {
   "cell_type": "code",
   "execution_count": null,
   "metadata": {},
   "outputs": [],
   "source": []
  },
  {
   "cell_type": "code",
   "execution_count": 20,
   "metadata": {},
   "outputs": [
    {
     "name": "stdout",
     "output_type": "stream",
     "text": [
      "<class 'pandas.core.frame.DataFrame'>\n",
      "Int64Index: 162562 entries, 15 to 2823\n",
      "Data columns (total 31 columns):\n",
      "tourney_id       162562 non-null object\n",
      "match_num        162562 non-null int64\n",
      "tourney_name     162562 non-null object\n",
      "surface          162562 non-null object\n",
      "drasize          162562 non-null int64\n",
      "tourney_level    162562 non-null object\n",
      "tourney_date     162562 non-null int64\n",
      "score            162560 non-null object\n",
      "best_of          162562 non-null int64\n",
      "round            162562 non-null object\n",
      "minutes          162562 non-null float64\n",
      "id               162562 non-null int64\n",
      "seed             162562 non-null int64\n",
      "entry            162562 non-null object\n",
      "name             162562 non-null object\n",
      "hand             162562 non-null object\n",
      "ht               162562 non-null float64\n",
      "ioc              162562 non-null object\n",
      "age              162562 non-null float64\n",
      "rank             162562 non-null float64\n",
      "rank_points      162562 non-null float64\n",
      "ace              162562 non-null float64\n",
      "df               162562 non-null float64\n",
      "svpt             162562 non-null float64\n",
      "1stIn            162562 non-null float64\n",
      "1stWon           162562 non-null float64\n",
      "2ndWon           162562 non-null float64\n",
      "SvGms            162562 non-null float64\n",
      "bpSaved          162562 non-null float64\n",
      "bpFaced          162562 non-null float64\n",
      "target           162562 non-null int64\n",
      "dtypes: float64(14), int64(7), object(10)\n",
      "memory usage: 39.7+ MB\n"
     ]
    }
   ],
   "source": [
    "df_win_loss.info()"
   ]
  },
  {
   "cell_type": "code",
   "execution_count": 21,
   "metadata": {},
   "outputs": [
    {
     "data": {
      "text/plain": [
       "R    138155\n",
       "L     23661\n",
       "U       746\n",
       "Name: hand, dtype: int64"
      ]
     },
     "execution_count": 21,
     "metadata": {},
     "output_type": "execute_result"
    }
   ],
   "source": [
    "df_win_loss['hand'].value_counts() #R    138155 L     23661 U       746"
   ]
  },
  {
   "cell_type": "markdown",
   "metadata": {},
   "source": [
    "df_win_loss['rank'].value_counts()\n",
    "max(df_win_loss['rank'].unique()) #2159!\n",
    "max(df_loss['rank']) # checks: rank 2159 does exist"
   ]
  },
  {
   "cell_type": "code",
   "execution_count": 22,
   "metadata": {},
   "outputs": [
    {
     "name": "stdout",
     "output_type": "stream",
     "text": [
      "<class 'pandas.core.frame.DataFrame'>\n",
      "Int64Index: 162562 entries, 15 to 2823\n",
      "Data columns (total 31 columns):\n",
      "tourney_id       162562 non-null object\n",
      "match_num        162562 non-null int64\n",
      "tourney_name     162562 non-null object\n",
      "surface          162562 non-null object\n",
      "drasize          162562 non-null int64\n",
      "tourney_level    162562 non-null object\n",
      "tourney_date     162562 non-null int64\n",
      "score            162560 non-null object\n",
      "best_of          162562 non-null int64\n",
      "round            162562 non-null object\n",
      "minutes          162562 non-null float64\n",
      "id               162562 non-null int64\n",
      "seed             162562 non-null int64\n",
      "entry            162562 non-null object\n",
      "name             162562 non-null object\n",
      "hand             162562 non-null object\n",
      "ht               162562 non-null float64\n",
      "ioc              162562 non-null object\n",
      "age              162562 non-null float64\n",
      "rank             162562 non-null float64\n",
      "rank_points      162562 non-null float64\n",
      "ace              162562 non-null float64\n",
      "df               162562 non-null float64\n",
      "svpt             162562 non-null float64\n",
      "1stIn            162562 non-null float64\n",
      "1stWon           162562 non-null float64\n",
      "2ndWon           162562 non-null float64\n",
      "SvGms            162562 non-null float64\n",
      "bpSaved          162562 non-null float64\n",
      "bpFaced          162562 non-null float64\n",
      "target           162562 non-null int64\n",
      "dtypes: float64(14), int64(7), object(10)\n",
      "memory usage: 39.7+ MB\n"
     ]
    },
    {
     "data": {
      "text/plain": [
       "NoneType"
      ]
     },
     "execution_count": 22,
     "metadata": {},
     "output_type": "execute_result"
    }
   ],
   "source": [
    "df_win_loss.columns\n",
    "type(df_win_loss.info()) # none type\n",
    "# df_win_loss.info()"
   ]
  },
  {
   "cell_type": "markdown",
   "metadata": {},
   "source": [
    "Index(['tourney_id', 'match_num', 'tourney_name', 'surface', 'drasize',\n",
    "       'tourney_level', 'tourney_date', 'score', 'best_of', 'round', 'minutes',\n",
    "       'id', 'seed', 'entry', 'name', 'hand', 'ht', 'ioc', 'age', 'rank',\n",
    "       'rank_points', 'ace', 'df', 'svpt', '1stIn', '1stWon', '2ndWon',\n",
    "       'SvGms', 'bpSaved', 'bpFaced', 'target'],\n",
    "      dtype='object')"
   ]
  },
  {
   "cell_type": "code",
   "execution_count": 23,
   "metadata": {},
   "outputs": [],
   "source": [
    "df_win_loss['surface'].unique() #['Hard', 'Carpet', 'Clay', 'Grass', 'None']\n",
    "df_win_loss['surface'].value_counts()\n",
    "df_win_loss = pd.concat([df_win_loss,\\\n",
    "                         pd.get_dummies(df_win_loss['surface'])],axis=1)"
   ]
  },
  {
   "cell_type": "code",
   "execution_count": 24,
   "metadata": {},
   "outputs": [],
   "source": [
    "df_win_loss = pd.concat([df_win_loss,\\\n",
    "                         pd.get_dummies(df_win_loss['hand'])],axis=1)"
   ]
  },
  {
   "cell_type": "code",
   "execution_count": 25,
   "metadata": {
    "scrolled": true
   },
   "outputs": [
    {
     "data": {
      "text/plain": [
       "Index(['tourney_id', 'match_num', 'tourney_name', 'surface', 'drasize',\n",
       "       'tourney_level', 'tourney_date', 'score', 'best_of', 'round', 'minutes',\n",
       "       'id', 'seed', 'entry', 'name', 'hand', 'ht', 'ioc', 'age', 'rank',\n",
       "       'rank_points', 'ace', 'df', 'svpt', '1stIn', '1stWon', '2ndWon',\n",
       "       'SvGms', 'bpSaved', 'bpFaced', 'target', 'Carpet', 'Clay', 'Grass',\n",
       "       'Hard', 'None', 'L', 'R', 'U'],\n",
       "      dtype='object')"
      ]
     },
     "execution_count": 25,
     "metadata": {},
     "output_type": "execute_result"
    }
   ],
   "source": [
    "df_win_loss.columns"
   ]
  },
  {
   "cell_type": "markdown",
   "metadata": {},
   "source": [
    "* Hard      80028 \n",
    "* Clay      54282 \n",
    "* Grass     16366 \n",
    "* Carpet    11736 \n",
    "* None        150 \n",
    "\n",
    "Name: surface, dtype: int64"
   ]
  },
  {
   "cell_type": "code",
   "execution_count": 26,
   "metadata": {},
   "outputs": [],
   "source": [
    "df_wl_surf = df_win_loss.drop('surface', axis=1,inplace=True)"
   ]
  },
  {
   "cell_type": "code",
   "execution_count": 27,
   "metadata": {},
   "outputs": [],
   "source": [
    "df_win_loss.drop('hand', axis=1,inplace=True)"
   ]
  },
  {
   "cell_type": "code",
   "execution_count": 28,
   "metadata": {},
   "outputs": [
    {
     "name": "stdout",
     "output_type": "stream",
     "text": [
      "<class 'pandas.core.frame.DataFrame'>\n",
      "Int64Index: 162562 entries, 15 to 2823\n",
      "Data columns (total 37 columns):\n",
      "tourney_id       162562 non-null object\n",
      "match_num        162562 non-null int64\n",
      "tourney_name     162562 non-null object\n",
      "drasize          162562 non-null int64\n",
      "tourney_level    162562 non-null object\n",
      "tourney_date     162562 non-null int64\n",
      "score            162560 non-null object\n",
      "best_of          162562 non-null int64\n",
      "round            162562 non-null object\n",
      "minutes          162562 non-null float64\n",
      "id               162562 non-null int64\n",
      "seed             162562 non-null int64\n",
      "entry            162562 non-null object\n",
      "name             162562 non-null object\n",
      "ht               162562 non-null float64\n",
      "ioc              162562 non-null object\n",
      "age              162562 non-null float64\n",
      "rank             162562 non-null float64\n",
      "rank_points      162562 non-null float64\n",
      "ace              162562 non-null float64\n",
      "df               162562 non-null float64\n",
      "svpt             162562 non-null float64\n",
      "1stIn            162562 non-null float64\n",
      "1stWon           162562 non-null float64\n",
      "2ndWon           162562 non-null float64\n",
      "SvGms            162562 non-null float64\n",
      "bpSaved          162562 non-null float64\n",
      "bpFaced          162562 non-null float64\n",
      "target           162562 non-null int64\n",
      "Carpet           162562 non-null uint8\n",
      "Clay             162562 non-null uint8\n",
      "Grass            162562 non-null uint8\n",
      "Hard             162562 non-null uint8\n",
      "None             162562 non-null uint8\n",
      "L                162562 non-null uint8\n",
      "R                162562 non-null uint8\n",
      "U                162562 non-null uint8\n",
      "dtypes: float64(14), int64(7), object(8), uint8(8)\n",
      "memory usage: 38.4+ MB\n"
     ]
    },
    {
     "data": {
      "text/plain": [
       "Index(['tourney_id', 'match_num', 'tourney_name', 'drasize', 'tourney_level',\n",
       "       'tourney_date', 'score', 'best_of', 'round', 'minutes', 'id', 'seed',\n",
       "       'entry', 'name', 'ht', 'ioc', 'age', 'rank', 'rank_points', 'ace', 'df',\n",
       "       'svpt', '1stIn', '1stWon', '2ndWon', 'SvGms', 'bpSaved', 'bpFaced',\n",
       "       'target', 'Carpet', 'Clay', 'Grass', 'Hard', 'None', 'L', 'R', 'U'],\n",
       "      dtype='object')"
      ]
     },
     "execution_count": 28,
     "metadata": {},
     "output_type": "execute_result"
    }
   ],
   "source": [
    "df_win_loss.info() # all data full 162562 rows non-null except 2 null scores\n",
    "df_win_loss.columns"
   ]
  },
  {
   "cell_type": "code",
   "execution_count": null,
   "metadata": {},
   "outputs": [],
   "source": [
    "df_win_loss['drasize'].value_counts()"
   ]
  },
  {
   "cell_type": "markdown",
   "metadata": {},
   "source": [
    "32     72612\n",
    "128    28192\n",
    "56     20302\n",
    "48     12666\n",
    "28     10258\n",
    "64      9496\n",
    "96      6964\n",
    "4       1322\n",
    "8        630\n",
    "9         60\n",
    "16        30\n",
    "10        30\n",
    "Name: drasize, dtype: int64"
   ]
  },
  {
   "cell_type": "code",
   "execution_count": 29,
   "metadata": {},
   "outputs": [
    {
     "ename": "KeyError",
     "evalue": "\"[''] not in index\"",
     "output_type": "error",
     "traceback": [
      "\u001b[0;31m---------------------------------------------------------------------------\u001b[0m",
      "\u001b[0;31mKeyError\u001b[0m                                  Traceback (most recent call last)",
      "\u001b[0;32m<ipython-input-29-950cea9a326c>\u001b[0m in \u001b[0;36m<module>\u001b[0;34m()\u001b[0m\n\u001b[0;32m----> 1\u001b[0;31m \u001b[0mdf_pred_cols\u001b[0m\u001b[0;34m=\u001b[0m\u001b[0mdf_win_loss\u001b[0m\u001b[0;34m[\u001b[0m\u001b[0;34m[\u001b[0m\u001b[0;34m''\u001b[0m\u001b[0;34m]\u001b[0m\u001b[0;34m]\u001b[0m\u001b[0;34m\u001b[0m\u001b[0m\n\u001b[0m",
      "\u001b[0;32m~/anaconda3/lib/python3.6/site-packages/pandas/core/frame.py\u001b[0m in \u001b[0;36m__getitem__\u001b[0;34m(self, key)\u001b[0m\n\u001b[1;32m   2677\u001b[0m         \u001b[0;32mif\u001b[0m \u001b[0misinstance\u001b[0m\u001b[0;34m(\u001b[0m\u001b[0mkey\u001b[0m\u001b[0;34m,\u001b[0m \u001b[0;34m(\u001b[0m\u001b[0mSeries\u001b[0m\u001b[0;34m,\u001b[0m \u001b[0mnp\u001b[0m\u001b[0;34m.\u001b[0m\u001b[0mndarray\u001b[0m\u001b[0;34m,\u001b[0m \u001b[0mIndex\u001b[0m\u001b[0;34m,\u001b[0m \u001b[0mlist\u001b[0m\u001b[0;34m)\u001b[0m\u001b[0;34m)\u001b[0m\u001b[0;34m:\u001b[0m\u001b[0;34m\u001b[0m\u001b[0m\n\u001b[1;32m   2678\u001b[0m             \u001b[0;31m# either boolean or fancy integer index\u001b[0m\u001b[0;34m\u001b[0m\u001b[0;34m\u001b[0m\u001b[0m\n\u001b[0;32m-> 2679\u001b[0;31m             \u001b[0;32mreturn\u001b[0m \u001b[0mself\u001b[0m\u001b[0;34m.\u001b[0m\u001b[0m_getitem_array\u001b[0m\u001b[0;34m(\u001b[0m\u001b[0mkey\u001b[0m\u001b[0;34m)\u001b[0m\u001b[0;34m\u001b[0m\u001b[0m\n\u001b[0m\u001b[1;32m   2680\u001b[0m         \u001b[0;32melif\u001b[0m \u001b[0misinstance\u001b[0m\u001b[0;34m(\u001b[0m\u001b[0mkey\u001b[0m\u001b[0;34m,\u001b[0m \u001b[0mDataFrame\u001b[0m\u001b[0;34m)\u001b[0m\u001b[0;34m:\u001b[0m\u001b[0;34m\u001b[0m\u001b[0m\n\u001b[1;32m   2681\u001b[0m             \u001b[0;32mreturn\u001b[0m \u001b[0mself\u001b[0m\u001b[0;34m.\u001b[0m\u001b[0m_getitem_frame\u001b[0m\u001b[0;34m(\u001b[0m\u001b[0mkey\u001b[0m\u001b[0;34m)\u001b[0m\u001b[0;34m\u001b[0m\u001b[0m\n",
      "\u001b[0;32m~/anaconda3/lib/python3.6/site-packages/pandas/core/frame.py\u001b[0m in \u001b[0;36m_getitem_array\u001b[0;34m(self, key)\u001b[0m\n\u001b[1;32m   2721\u001b[0m             \u001b[0;32mreturn\u001b[0m \u001b[0mself\u001b[0m\u001b[0;34m.\u001b[0m\u001b[0m_take\u001b[0m\u001b[0;34m(\u001b[0m\u001b[0mindexer\u001b[0m\u001b[0;34m,\u001b[0m \u001b[0maxis\u001b[0m\u001b[0;34m=\u001b[0m\u001b[0;36m0\u001b[0m\u001b[0;34m)\u001b[0m\u001b[0;34m\u001b[0m\u001b[0m\n\u001b[1;32m   2722\u001b[0m         \u001b[0;32melse\u001b[0m\u001b[0;34m:\u001b[0m\u001b[0;34m\u001b[0m\u001b[0m\n\u001b[0;32m-> 2723\u001b[0;31m             \u001b[0mindexer\u001b[0m \u001b[0;34m=\u001b[0m \u001b[0mself\u001b[0m\u001b[0;34m.\u001b[0m\u001b[0mloc\u001b[0m\u001b[0;34m.\u001b[0m\u001b[0m_convert_to_indexer\u001b[0m\u001b[0;34m(\u001b[0m\u001b[0mkey\u001b[0m\u001b[0;34m,\u001b[0m \u001b[0maxis\u001b[0m\u001b[0;34m=\u001b[0m\u001b[0;36m1\u001b[0m\u001b[0;34m)\u001b[0m\u001b[0;34m\u001b[0m\u001b[0m\n\u001b[0m\u001b[1;32m   2724\u001b[0m             \u001b[0;32mreturn\u001b[0m \u001b[0mself\u001b[0m\u001b[0;34m.\u001b[0m\u001b[0m_take\u001b[0m\u001b[0;34m(\u001b[0m\u001b[0mindexer\u001b[0m\u001b[0;34m,\u001b[0m \u001b[0maxis\u001b[0m\u001b[0;34m=\u001b[0m\u001b[0;36m1\u001b[0m\u001b[0;34m)\u001b[0m\u001b[0;34m\u001b[0m\u001b[0m\n\u001b[1;32m   2725\u001b[0m \u001b[0;34m\u001b[0m\u001b[0m\n",
      "\u001b[0;32m~/anaconda3/lib/python3.6/site-packages/pandas/core/indexing.py\u001b[0m in \u001b[0;36m_convert_to_indexer\u001b[0;34m(self, obj, axis, is_setter)\u001b[0m\n\u001b[1;32m   1325\u001b[0m                 \u001b[0;32mif\u001b[0m \u001b[0mmask\u001b[0m\u001b[0;34m.\u001b[0m\u001b[0many\u001b[0m\u001b[0;34m(\u001b[0m\u001b[0;34m)\u001b[0m\u001b[0;34m:\u001b[0m\u001b[0;34m\u001b[0m\u001b[0m\n\u001b[1;32m   1326\u001b[0m                     raise KeyError('{mask} not in index'\n\u001b[0;32m-> 1327\u001b[0;31m                                    .format(mask=objarr[mask]))\n\u001b[0m\u001b[1;32m   1328\u001b[0m \u001b[0;34m\u001b[0m\u001b[0m\n\u001b[1;32m   1329\u001b[0m                 \u001b[0;32mreturn\u001b[0m \u001b[0mcom\u001b[0m\u001b[0;34m.\u001b[0m\u001b[0m_values_from_object\u001b[0m\u001b[0;34m(\u001b[0m\u001b[0mindexer\u001b[0m\u001b[0;34m)\u001b[0m\u001b[0;34m\u001b[0m\u001b[0m\n",
      "\u001b[0;31mKeyError\u001b[0m: \"[''] not in index\""
     ]
    }
   ],
   "source": [
    "df_pred_cols=df_win_loss[['drasize', 'tourney_level',\n",
    "       'tourney_date', 'score', 'best_of', 'round', 'minutes', 'id', 'seed',\n",
    "       'entry', 'name', 'ht', 'ioc', 'age', 'rank', 'rank_points', 'ace', 'df',\n",
    "       'svpt', '1stIn', '1stWon', '2ndWon', 'SvGms', 'bpSaved', 'bpFaced',\n",
    "       'target', 'Carpet', 'Clay', 'Grass', 'Hard', 'None', 'L', 'R', 'U']]"
   ]
  },
  {
   "cell_type": "markdown",
   "metadata": {},
   "source": [
    "# Remedials"
   ]
  },
  {
   "cell_type": "markdown",
   "metadata": {},
   "source": [
    "* For scatter matrix plots, plot **differences** of eg. height, age \n",
    "* For comparing wins and losses, "
   ]
  },
  {
   "cell_type": "markdown",
   "metadata": {},
   "source": [
    "# Problems"
   ]
  },
  {
   "cell_type": "markdown",
   "metadata": {},
   "source": [
    "* *used all the data to get average rank: not terrible but leverages future data* : used for filling missing 'rank' and 'rank_points' (?)\n",
    "\n",
    "* *mising ranks (after filling with plyaer average) filled with maximum rank*: is that ok?\n",
    "* *mising age ht (height) minutes as average of all cols*: problem--players with higher ranks will be represented more\n",
    "* *Kudos Sam: Negative data found in l_bpSaved: only two values"
   ]
  },
  {
   "cell_type": "markdown",
   "metadata": {},
   "source": [
    "# Directions"
   ]
  },
  {
   "cell_type": "markdown",
   "metadata": {},
   "source": [
    "* *Dastan: using S3 from which EC2 pulls -- would be a good skill set*\n",
    "* *Joe: can open up a few EC2s*--model1, -model2, --grid search \n",
    "* *am **predicting** matches between players, so have to **train on** matches between plyaers*\n",
    "* *Joe suggested to Sam: Do **lasso regression** and **use** features with **large betas** for logistic or can do decision tree/RandomForest and get most important features"
   ]
  },
  {
   "cell_type": "code",
   "execution_count": null,
   "metadata": {},
   "outputs": [],
   "source": [
    "lgstc_reg_model=LogisticRegression()"
   ]
  },
  {
   "cell_type": "code",
   "execution_count": null,
   "metadata": {},
   "outputs": [],
   "source": []
  }
 ],
 "metadata": {
  "kernelspec": {
   "display_name": "Python 3",
   "language": "python",
   "name": "python3"
  },
  "language_info": {
   "codemirror_mode": {
    "name": "ipython",
    "version": 3
   },
   "file_extension": ".py",
   "mimetype": "text/x-python",
   "name": "python",
   "nbconvert_exporter": "python",
   "pygments_lexer": "ipython3",
   "version": "3.6.5"
  }
 },
 "nbformat": 4,
 "nbformat_minor": 2
}
