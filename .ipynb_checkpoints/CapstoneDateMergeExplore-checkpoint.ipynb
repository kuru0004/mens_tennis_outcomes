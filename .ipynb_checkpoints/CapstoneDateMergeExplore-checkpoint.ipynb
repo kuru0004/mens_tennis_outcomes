{
 "cells": [
  {
   "cell_type": "code",
   "execution_count": 1,
   "metadata": {},
   "outputs": [],
   "source": [
    "import numpy as np\n",
    "import pandas as pd\n",
    "import matplotlib.pyplot as plt \n",
    "#needed for Jupyter Notebook, if want plots to show inline\n",
    "%matplotlib inline "
   ]
  },
  {
   "cell_type": "code",
   "execution_count": 18,
   "metadata": {},
   "outputs": [],
   "source": [
    "import glob\n",
    "from parse import *"
   ]
  },
  {
   "cell_type": "code",
   "execution_count": 14,
   "metadata": {},
   "outputs": [
    {
     "data": {
      "text/markdown": [
       "\n",
       "# Nice function for reading multiple files"
      ],
      "text/plain": [
       "<IPython.core.display.Markdown object>"
      ]
     },
     "metadata": {},
     "output_type": "display_data"
    }
   ],
   "source": [
    "%%markdown\n",
    "\n",
    "# Nice function for reading multiple files"
   ]
  },
  {
   "cell_type": "code",
   "execution_count": 21,
   "metadata": {},
   "outputs": [],
   "source": [
    "def readAllFiles(dirname):\n",
    "    allFiles = glob.glob(dirname + \"/atp_rankings_\" + \"*.csv\")\n",
    "    ranks = pd.DataFrame()\n",
    "    list_ = list()\n",
    "    for filen in allFiles:\n",
    "        df = pd.read_csv(filen,\n",
    "                         index_col=None,\n",
    "                         header=None,\n",
    "                         parse_dates=[0])\n",
    "                         #date_parser=lambda t:parse(t))\n",
    "        list_.append(df)\n",
    "    ranks = pd.concat(list_)\n",
    "    return ranks\n",
    "\n",
    "def readPlayers(dirname):\n",
    "    return pd.read_csv(dirname+\"/atp_players.csv\",\n",
    "                       index_col=None,\n",
    "                       header=None,\n",
    "                       parse_dates=[4],\n",
    "                       date_parser=lambda t:parse(t))"
   ]
  },
  {
   "cell_type": "code",
   "execution_count": 35,
   "metadata": {},
   "outputs": [],
   "source": [
    "def readAllMatches(dirname):\n",
    "    allFiles = glob.glob(dirname + \"/atp_matches_\" + \"*.csv\")\n",
    "    matches = pd.DataFrame()\n",
    "    list_ = list()\n",
    "    for filen in allFiles:\n",
    "        df = pd.read_csv(filen,\n",
    "                         index_col=None,\n",
    "                         header=None,\n",
    "                         parse_dates=[0])\n",
    "                         #date_parser=lambda t:parse(t))\n",
    "        list_.append(df)\n",
    "    matches = pd.concat(list_)\n",
    "    return matches\n"
   ]
  },
  {
   "cell_type": "code",
   "execution_count": 23,
   "metadata": {},
   "outputs": [
    {
     "name": "stderr",
     "output_type": "stream",
     "text": [
      "/home/kuru0004/anaconda3/lib/python3.5/site-packages/IPython/core/interactiveshell.py:2903: DtypeWarning: Columns (3) have mixed types. Specify dtype option on import or set low_memory=False.\n",
      "  if self.run_code(code, result):\n"
     ]
    },
    {
     "name": "stdout",
     "output_type": "stream",
     "text": [
      "/home/kuru0004/Documents/Git_Repos/mens_tennis_outcomes\r\n"
     ]
    }
   ],
   "source": [
    "ranks = readAllFiles('JeffSackmannData')\n",
    "!pwd"
   ]
  },
  {
   "cell_type": "code",
   "execution_count": 26,
   "metadata": {},
   "outputs": [
    {
     "data": {
      "text/html": [
       "<div>\n",
       "<style scoped>\n",
       "    .dataframe tbody tr th:only-of-type {\n",
       "        vertical-align: middle;\n",
       "    }\n",
       "\n",
       "    .dataframe tbody tr th {\n",
       "        vertical-align: top;\n",
       "    }\n",
       "\n",
       "    .dataframe thead th {\n",
       "        text-align: right;\n",
       "    }\n",
       "</style>\n",
       "<table border=\"1\" class=\"dataframe\">\n",
       "  <thead>\n",
       "    <tr style=\"text-align: right;\">\n",
       "      <th></th>\n",
       "      <th>0</th>\n",
       "      <th>1</th>\n",
       "      <th>2</th>\n",
       "      <th>3</th>\n",
       "    </tr>\n",
       "  </thead>\n",
       "  <tbody>\n",
       "    <tr>\n",
       "      <th>0</th>\n",
       "      <td>2018-01-01</td>\n",
       "      <td>1</td>\n",
       "      <td>104745.0</td>\n",
       "      <td>10645</td>\n",
       "    </tr>\n",
       "    <tr>\n",
       "      <th>1</th>\n",
       "      <td>2018-01-01</td>\n",
       "      <td>2</td>\n",
       "      <td>103819.0</td>\n",
       "      <td>9605</td>\n",
       "    </tr>\n",
       "    <tr>\n",
       "      <th>2</th>\n",
       "      <td>2018-01-01</td>\n",
       "      <td>3</td>\n",
       "      <td>105777.0</td>\n",
       "      <td>5150</td>\n",
       "    </tr>\n",
       "    <tr>\n",
       "      <th>3</th>\n",
       "      <td>2018-01-01</td>\n",
       "      <td>4</td>\n",
       "      <td>100644.0</td>\n",
       "      <td>4610</td>\n",
       "    </tr>\n",
       "    <tr>\n",
       "      <th>4</th>\n",
       "      <td>2018-01-01</td>\n",
       "      <td>5</td>\n",
       "      <td>106233.0</td>\n",
       "      <td>4015</td>\n",
       "    </tr>\n",
       "  </tbody>\n",
       "</table>\n",
       "</div>"
      ],
      "text/plain": [
       "           0  1         2      3\n",
       "0 2018-01-01  1  104745.0  10645\n",
       "1 2018-01-01  2  103819.0   9605\n",
       "2 2018-01-01  3  105777.0   5150\n",
       "3 2018-01-01  4  100644.0   4610\n",
       "4 2018-01-01  5  106233.0   4015"
      ]
     },
     "execution_count": 26,
     "metadata": {},
     "output_type": "execute_result"
    }
   ],
   "source": [
    "ranks.head()"
   ]
  },
  {
   "cell_type": "code",
   "execution_count": 27,
   "metadata": {},
   "outputs": [
    {
     "data": {
      "text/html": [
       "<div>\n",
       "<style scoped>\n",
       "    .dataframe tbody tr th:only-of-type {\n",
       "        vertical-align: middle;\n",
       "    }\n",
       "\n",
       "    .dataframe tbody tr th {\n",
       "        vertical-align: top;\n",
       "    }\n",
       "\n",
       "    .dataframe thead th {\n",
       "        text-align: right;\n",
       "    }\n",
       "</style>\n",
       "<table border=\"1\" class=\"dataframe\">\n",
       "  <thead>\n",
       "    <tr style=\"text-align: right;\">\n",
       "      <th></th>\n",
       "      <th>0</th>\n",
       "      <th>1</th>\n",
       "      <th>2</th>\n",
       "      <th>3</th>\n",
       "    </tr>\n",
       "  </thead>\n",
       "  <tbody>\n",
       "    <tr>\n",
       "      <th>920537</th>\n",
       "      <td>2009-09-07</td>\n",
       "      <td>996</td>\n",
       "      <td>105799.0</td>\n",
       "      <td>12</td>\n",
       "    </tr>\n",
       "    <tr>\n",
       "      <th>920538</th>\n",
       "      <td>2009-09-07</td>\n",
       "      <td>996</td>\n",
       "      <td>105458.0</td>\n",
       "      <td>12</td>\n",
       "    </tr>\n",
       "    <tr>\n",
       "      <th>920539</th>\n",
       "      <td>2009-09-07</td>\n",
       "      <td>998</td>\n",
       "      <td>104097.0</td>\n",
       "      <td>12</td>\n",
       "    </tr>\n",
       "    <tr>\n",
       "      <th>920540</th>\n",
       "      <td>2009-09-07</td>\n",
       "      <td>999</td>\n",
       "      <td>104024.0</td>\n",
       "      <td>12</td>\n",
       "    </tr>\n",
       "    <tr>\n",
       "      <th>920541</th>\n",
       "      <td>2009-09-07</td>\n",
       "      <td>1000</td>\n",
       "      <td>105419.0</td>\n",
       "      <td>12</td>\n",
       "    </tr>\n",
       "  </tbody>\n",
       "</table>\n",
       "</div>"
      ],
      "text/plain": [
       "                0     1         2   3\n",
       "920537 2009-09-07   996  105799.0  12\n",
       "920538 2009-09-07   996  105458.0  12\n",
       "920539 2009-09-07   998  104097.0  12\n",
       "920540 2009-09-07   999  104024.0  12\n",
       "920541 2009-09-07  1000  105419.0  12"
      ]
     },
     "execution_count": 27,
     "metadata": {},
     "output_type": "execute_result"
    }
   ],
   "source": [
    "ranks.tail()  "
   ]
  },
  {
   "cell_type": "code",
   "execution_count": 33,
   "metadata": {},
   "outputs": [
    {
     "data": {
      "text/markdown": [
       "### For rankings files, the columns are (from readme.md file)\n",
       "###  _1st column_: ranking_date, _2nd column_: ranking\n",
       "### _3rd column_: player_id, _4th column_: ranking (ATP Ranks?) \n",
       "### Conclusion: whole column seems in order top-to_bottom\n",
       "    * _I changed the readme.md filename to something else_"
      ],
      "text/plain": [
       "<IPython.core.display.Markdown object>"
      ]
     },
     "metadata": {},
     "output_type": "display_data"
    }
   ],
   "source": [
    "%%markdown\n",
    "### For rankings files, the columns are (from readme.md file)\n",
    "###  _1st column_: ranking_date, _2nd column_: ranking\n",
    "### _3rd column_: player_id, _4th column_: ranking (ATP Ranks?) \n",
    "### Conclusion: whole column seems in order top-to_bottom\n",
    "    * _I changed the readme.md filename to something else_"
   ]
  },
  {
   "cell_type": "code",
   "execution_count": null,
   "metadata": {},
   "outputs": [],
   "source": []
  }
 ],
 "metadata": {
  "kernelspec": {
   "display_name": "Python 3",
   "language": "python",
   "name": "python3"
  },
  "language_info": {
   "codemirror_mode": {
    "name": "ipython",
    "version": 3
   },
   "file_extension": ".py",
   "mimetype": "text/x-python",
   "name": "python",
   "nbconvert_exporter": "python",
   "pygments_lexer": "ipython3",
   "version": "3.5.5"
  }
 },
 "nbformat": 4,
 "nbformat_minor": 2
}
